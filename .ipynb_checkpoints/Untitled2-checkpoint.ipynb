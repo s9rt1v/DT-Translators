{
 "cells": [
  {
   "cell_type": "code",
   "execution_count": 16,
   "metadata": {},
   "outputs": [],
   "source": [
    "import numpy as np\n",
    "import glob\n",
    "import os, os.path\n",
    "import math\n",
    "import pandas as pd\n",
    "import psycopg2\n",
    "import json"
   ]
  },
  {
   "cell_type": "code",
   "execution_count": 21,
   "metadata": {},
   "outputs": [],
   "source": [
    "df = pd.read_csv('amazon_metadata.csv')"
   ]
  },
  {
   "cell_type": "code",
   "execution_count": 14,
   "metadata": {},
   "outputs": [
    {
     "name": "stdout",
     "output_type": "stream",
     "text": [
      "0804215715\n",
      "156101074X\n",
      "0687023955\n",
      "0687074231\n",
      "082721619X\n"
     ]
    }
   ],
   "source": [
    "asins = df.iloc[1]['similar'].split(', ')\n",
    "for asin in asins:\n",
    "    print(asin)"
   ]
  },
  {
   "cell_type": "code",
   "execution_count": 43,
   "metadata": {},
   "outputs": [],
   "source": [
    "import warnings\n",
    "warnings.filterwarnings('ignore')"
   ]
  },
  {
   "cell_type": "code",
   "execution_count": 22,
   "metadata": {},
   "outputs": [
    {
     "data": {
      "text/plain": [
       "'0804215715, 156101074X, 0687023955, 0687074231, 082721619X'"
      ]
     },
     "execution_count": 22,
     "metadata": {},
     "output_type": "execute_result"
    }
   ],
   "source": [
    "df.loc[1,'similar']"
   ]
  },
  {
   "cell_type": "code",
   "execution_count": 4,
   "metadata": {},
   "outputs": [],
   "source": [
    "def psqlConnect(dbname, user, pwd, host, port):\n",
    "    conn = None\n",
    "    try:\n",
    "        conn = psycopg2.connect(\n",
    "            dbname=dbname,\n",
    "            user=user,\n",
    "            password=pwd,\n",
    "            host=host,\n",
    "            port=port\n",
    "        )\n",
    "        print(\"Successfully connected to the database.\")\n",
    "    except psycopg2.Error as e:\n",
    "        print(f\"An error occurred while connecting to the database: {e}\")\n",
    "    return conn\n",
    "\n",
    "def load_age():\n",
    "    try:\n",
    "        cur.execute(\"LOAD 'age';\")\n",
    "    except psycopg2.Error as e:\n",
    "        print(f\"An error occurred: {e}\")\n",
    "        conn.rollback()\n",
    "    \n",
    "    try:\n",
    "        cur.execute(\"SET search_path TO ag_catalog;\")\n",
    "    except psycopg2.Error as e:\n",
    "        print(f\"An error occurred: {e}\")\n",
    "        conn.rollback()\n",
    "        \n",
    "def execute(query):\n",
    "    try:\n",
    "        cur.execute(query)\n",
    "        conn.commit()\n",
    "        rows = cur.fetchall()\n",
    "        for row in rows:\n",
    "            print(row)\n",
    "    except psycopg2.Error as e:\n",
    "        print(f\"An error occurred: {e}\")\n",
    "        conn.rollback()"
   ]
  },
  {
   "cell_type": "code",
   "execution_count": 5,
   "metadata": {},
   "outputs": [
    {
     "name": "stdout",
     "output_type": "stream",
     "text": [
      "Successfully connected to the database.\n"
     ]
    }
   ],
   "source": [
    "dbname = \"demo\" \n",
    "user = \"s9rt1v\" \n",
    "pwd = \"1234\" \n",
    "host = \"localhost\" \n",
    "port = \"5430\"\n",
    "conn = psqlConnect(dbname, user, pwd, host, port)\n",
    "cur = conn.cursor()\n",
    "load_age()"
   ]
  },
  {
   "cell_type": "code",
   "execution_count": 28,
   "metadata": {},
   "outputs": [
    {
     "ename": "KeyboardInterrupt",
     "evalue": "",
     "output_type": "error",
     "traceback": [
      "\u001b[0;31m---------------------------------------------------------------------------\u001b[0m",
      "\u001b[0;31mKeyboardInterrupt\u001b[0m                         Traceback (most recent call last)",
      "\u001b[0;32m<ipython-input-28-67815e6a8993>\u001b[0m in \u001b[0;36m<module>\u001b[0;34m\u001b[0m\n\u001b[1;32m      6\u001b[0m         \u001b[0;32mfor\u001b[0m \u001b[0msim_asin\u001b[0m \u001b[0;32min\u001b[0m \u001b[0msim_asins\u001b[0m\u001b[0;34m:\u001b[0m\u001b[0;34m\u001b[0m\u001b[0;34m\u001b[0m\u001b[0m\n\u001b[1;32m      7\u001b[0m             \u001b[0mquery\u001b[0m \u001b[0;34m=\u001b[0m \u001b[0;34mf\"SELECT * FROM cypher ('amazon_metadata_test', $$ MATCH (source:Item {{ asin: '{asin}' }}), (target:Item {{ asin: '{sim_asin}' }}) CREATE (source)-[:SIMILAR_TO]->(target) $$) as (a agtype);\"\u001b[0m\u001b[0;34m\u001b[0m\u001b[0;34m\u001b[0m\u001b[0m\n\u001b[0;32m----> 8\u001b[0;31m             \u001b[0mexecute\u001b[0m\u001b[0;34m(\u001b[0m\u001b[0mquery\u001b[0m\u001b[0;34m)\u001b[0m\u001b[0;34m\u001b[0m\u001b[0;34m\u001b[0m\u001b[0m\n\u001b[0m",
      "\u001b[0;32m<ipython-input-26-f7d9fae0965e>\u001b[0m in \u001b[0;36mexecute\u001b[0;34m(query)\u001b[0m\n\u001b[1;32m     29\u001b[0m \u001b[0;32mdef\u001b[0m \u001b[0mexecute\u001b[0m\u001b[0;34m(\u001b[0m\u001b[0mquery\u001b[0m\u001b[0;34m)\u001b[0m\u001b[0;34m:\u001b[0m\u001b[0;34m\u001b[0m\u001b[0;34m\u001b[0m\u001b[0m\n\u001b[1;32m     30\u001b[0m     \u001b[0;32mtry\u001b[0m\u001b[0;34m:\u001b[0m\u001b[0;34m\u001b[0m\u001b[0;34m\u001b[0m\u001b[0m\n\u001b[0;32m---> 31\u001b[0;31m         \u001b[0mcur\u001b[0m\u001b[0;34m.\u001b[0m\u001b[0mexecute\u001b[0m\u001b[0;34m(\u001b[0m\u001b[0mquery\u001b[0m\u001b[0;34m)\u001b[0m\u001b[0;34m\u001b[0m\u001b[0;34m\u001b[0m\u001b[0m\n\u001b[0m\u001b[1;32m     32\u001b[0m         \u001b[0mconn\u001b[0m\u001b[0;34m.\u001b[0m\u001b[0mcommit\u001b[0m\u001b[0;34m(\u001b[0m\u001b[0;34m)\u001b[0m\u001b[0;34m\u001b[0m\u001b[0;34m\u001b[0m\u001b[0m\n\u001b[1;32m     33\u001b[0m         \u001b[0mrows\u001b[0m \u001b[0;34m=\u001b[0m \u001b[0mcur\u001b[0m\u001b[0;34m.\u001b[0m\u001b[0mfetchall\u001b[0m\u001b[0;34m(\u001b[0m\u001b[0;34m)\u001b[0m\u001b[0;34m\u001b[0m\u001b[0;34m\u001b[0m\u001b[0m\n",
      "\u001b[0;32m~/opt/anaconda3/lib/python3.8/encodings/utf_8.py\u001b[0m in \u001b[0;36mdecode\u001b[0;34m(input, errors)\u001b[0m\n\u001b[1;32m     13\u001b[0m \u001b[0mencode\u001b[0m \u001b[0;34m=\u001b[0m \u001b[0mcodecs\u001b[0m\u001b[0;34m.\u001b[0m\u001b[0mutf_8_encode\u001b[0m\u001b[0;34m\u001b[0m\u001b[0;34m\u001b[0m\u001b[0m\n\u001b[1;32m     14\u001b[0m \u001b[0;34m\u001b[0m\u001b[0m\n\u001b[0;32m---> 15\u001b[0;31m \u001b[0;32mdef\u001b[0m \u001b[0mdecode\u001b[0m\u001b[0;34m(\u001b[0m\u001b[0minput\u001b[0m\u001b[0;34m,\u001b[0m \u001b[0merrors\u001b[0m\u001b[0;34m=\u001b[0m\u001b[0;34m'strict'\u001b[0m\u001b[0;34m)\u001b[0m\u001b[0;34m:\u001b[0m\u001b[0;34m\u001b[0m\u001b[0;34m\u001b[0m\u001b[0m\n\u001b[0m\u001b[1;32m     16\u001b[0m     \u001b[0;32mreturn\u001b[0m \u001b[0mcodecs\u001b[0m\u001b[0;34m.\u001b[0m\u001b[0mutf_8_decode\u001b[0m\u001b[0;34m(\u001b[0m\u001b[0minput\u001b[0m\u001b[0;34m,\u001b[0m \u001b[0merrors\u001b[0m\u001b[0;34m,\u001b[0m \u001b[0;32mTrue\u001b[0m\u001b[0;34m)\u001b[0m\u001b[0;34m\u001b[0m\u001b[0;34m\u001b[0m\u001b[0m\n\u001b[1;32m     17\u001b[0m \u001b[0;34m\u001b[0m\u001b[0m\n",
      "\u001b[0;31mKeyboardInterrupt\u001b[0m: "
     ]
    }
   ],
   "source": [
    "#create edges:SIMILAR_TO for node item and item\n",
    "for i in range(df.shape[0]):\n",
    "    if not pd.isna(df.iloc[i]['similar']):\n",
    "        sim_asins =  df.iloc[i]['similar'].split(', ')\n",
    "        asin = df.iloc[i]['asin']\n",
    "        for sim_asin in sim_asins:\n",
    "            query = f\"SELECT * FROM cypher ('amazon_metadata_test', $$ MATCH (source:Item {{ asin: '{asin}' }}), (target:Item {{ asin: '{sim_asin}' }}) CREATE (source)-[:SIMILAR_TO]->(target) $$) as (a agtype);\"\n",
    "            execute(query)"
   ]
  },
  {
   "cell_type": "code",
   "execution_count": 103,
   "metadata": {},
   "outputs": [
    {
     "name": "stdout",
     "output_type": "stream",
     "text": [
      "('{\"id\": 3377699720527873, \"label\": \"Group\", \"properties\": {\"name\": \"Book\"}}::vertex',)\n",
      "('{\"id\": 3377699720527874, \"label\": \"Group\", \"properties\": {\"name\": \"Music\"}}::vertex',)\n",
      "('{\"id\": 3377699720527875, \"label\": \"Group\", \"properties\": {\"name\": \"DVD\"}}::vertex',)\n",
      "('{\"id\": 3377699720527876, \"label\": \"Group\", \"properties\": {\"name\": \"Video\"}}::vertex',)\n",
      "('{\"id\": 3377699720527877, \"label\": \"Group\", \"properties\": {\"name\": \"Toy\"}}::vertex',)\n",
      "('{\"id\": 3377699720527878, \"label\": \"Group\", \"properties\": {\"name\": \"Video Games\"}}::vertex',)\n",
      "('{\"id\": 3377699720527879, \"label\": \"Group\", \"properties\": {\"name\": \"Software\"}}::vertex',)\n",
      "('{\"id\": 3377699720527880, \"label\": \"Group\", \"properties\": {\"name\": \"Baby Product\"}}::vertex',)\n",
      "('{\"id\": 3377699720527881, \"label\": \"Group\", \"properties\": {\"name\": \"CE\"}}::vertex',)\n",
      "('{\"id\": 3377699720527882, \"label\": \"Group\", \"properties\": {\"name\": \"Sports\"}}::vertex',)\n"
     ]
    }
   ],
   "source": [
    "query = (\"SELECT * FROM cypher ('amazon_metadata_test', $$ MATCH (n:Group) RETURN n $$) as ( a agtype);\")\n",
    "execute(query)"
   ]
  },
  {
   "cell_type": "code",
   "execution_count": 114,
   "metadata": {},
   "outputs": [],
   "source": [
    "def get_node_labels(graph_name):\n",
    "    query = f\"SELECT * FROM cypher('{graph_name}', $$MATCH (n) RETURN DISTINCT labels(n)$$) AS (label agtype);\"\n",
    "    labels = []\n",
    "    try:\n",
    "        cur.execute(query)\n",
    "        conn.commit()\n",
    "        rows = cur.fetchall()\n",
    "        for row in rows:\n",
    "            label = row[0].split('\"')[1]\n",
    "            labels.append(label)\n",
    "    except psycopg2.Error as e:\n",
    "        print(f\"An error occurred: {e}\")\n",
    "        conn.rollback()\n",
    "    return labels\n",
    "\n",
    "def get_node_property_names(node_label,graph_name):\n",
    "    query = f\"SELECT * FROM cypher('{graph_name}', $$ MATCH (n:{node_label})RETURN DISTINCT keys(n) LIMIT 1 $$) AS (properties agtype);\"\n",
    "    property_names = []\n",
    "    try:\n",
    "        cur.execute(query)\n",
    "        conn.commit()\n",
    "        rows = cur.fetchall()\n",
    "        for row in rows:\n",
    "            p_names = row[0]\n",
    "            names = json.loads(p_names)\n",
    "            for name in names:\n",
    "                property_names.append(name)\n",
    "            #property_names.append(p_name)\n",
    "    except psycopg2.Error as e:\n",
    "        print(f\"An error occurred: {e}\")\n",
    "        conn.rollback()\n",
    "    return property_names\n",
    "\n",
    "def get_edge_labels(graph_name):\n",
    "    query = f\"SELECT * FROM cypher('{graph_name}', $$ MATCH ()-[r]->() RETURN DISTINCT TYPE(r) $$) AS (relation_type agtype);\"\n",
    "    labels = []\n",
    "    try:\n",
    "        cur.execute(query)\n",
    "        conn.commit()\n",
    "        rows = cur.fetchall()\n",
    "        for row in rows:\n",
    "            label = row[0].split('\"')[1]\n",
    "            labels.append(label)\n",
    "    except psycopg2.Error as e:\n",
    "        print(f\"An error occurred: {e}\")\n",
    "        conn.rollback()\n",
    "    return labels\n",
    "\n",
    "def get_edge_property_names(edge_label, graph_name):\n",
    "    query = f\"SELECT * FROM cypher('{graph_name}', $$ MATCH ()-[r:{edge_label}]->() RETURN DISTINCT keys(r) LIMIT 1 $$) AS (properties agtype);\"\n",
    "    property_names = []\n",
    "    try:\n",
    "        cur.execute(query)\n",
    "        conn.commit()\n",
    "        rows = cur.fetchall()\n",
    "        for row in rows:\n",
    "            p_names = row[0]\n",
    "            names = json.loads(p_names)\n",
    "            for name in names:\n",
    "                property_names.append(name)\n",
    "            #property_names.append(p_name)\n",
    "    except psycopg2.Error as e:\n",
    "        print(f\"An error occurred: {e}\")\n",
    "        conn.rollback()\n",
    "    return property_names\n"
   ]
  },
  {
   "cell_type": "code",
   "execution_count": null,
   "metadata": {},
   "outputs": [],
   "source": [
    "def create_node_table(node_label, node_p_names):\n",
    "    "
   ]
  },
  {
   "cell_type": "code",
   "execution_count": 53,
   "metadata": {},
   "outputs": [],
   "source": [
    "labels = get_labels('amazon_metadata_test')"
   ]
  },
  {
   "cell_type": "code",
   "execution_count": 170,
   "metadata": {},
   "outputs": [],
   "source": [
    "for i in range(10):\n",
    "    if not pd.isna(df_test.loc[i]['similar']):\n",
    "        similar_o = df_test.loc[i]['similar'].split(', ')\n",
    "        similar_n = ''\n",
    "        for similar in similar_o:\n",
    "            if similar in asin_list:\n",
    "                if similar_n == '':\n",
    "                    similar_n = similar\n",
    "                else:\n",
    "                    similar_n = similar_n + ', ' + similar\n",
    "        if similar_n == '':\n",
    "            df_test.loc[i, 'similar'] = np.nan\n",
    "        else:\n",
    "            df_test.loc[i, 'similar'] = similar_n"
   ]
  },
  {
   "cell_type": "code",
   "execution_count": 184,
   "metadata": {},
   "outputs": [
    {
     "data": {
      "text/html": [
       "<div>\n",
       "<style scoped>\n",
       "    .dataframe tbody tr th:only-of-type {\n",
       "        vertical-align: middle;\n",
       "    }\n",
       "\n",
       "    .dataframe tbody tr th {\n",
       "        vertical-align: top;\n",
       "    }\n",
       "\n",
       "    .dataframe thead th {\n",
       "        text-align: right;\n",
       "    }\n",
       "</style>\n",
       "<table border=\"1\" class=\"dataframe\">\n",
       "  <thead>\n",
       "    <tr style=\"text-align: right;\">\n",
       "      <th></th>\n",
       "      <th>asin</th>\n",
       "      <th>title</th>\n",
       "      <th>group</th>\n",
       "      <th>salesrank</th>\n",
       "      <th>similar</th>\n",
       "      <th>total_reviews</th>\n",
       "      <th>downloaded_reviews</th>\n",
       "      <th>avg_rating</th>\n",
       "      <th>similarity</th>\n",
       "    </tr>\n",
       "  </thead>\n",
       "  <tbody>\n",
       "    <tr>\n",
       "      <th>2</th>\n",
       "      <td>738700797</td>\n",
       "      <td>Candlemas: Feast of Flames</td>\n",
       "      <td>Book</td>\n",
       "      <td>168596.0</td>\n",
       "      <td>1567184960</td>\n",
       "      <td>12.0</td>\n",
       "      <td>12.0</td>\n",
       "      <td>4.5</td>\n",
       "      <td>9</td>\n",
       "    </tr>\n",
       "    <tr>\n",
       "      <th>7</th>\n",
       "      <td>B00000AU3R</td>\n",
       "      <td>Batik</td>\n",
       "      <td>Music</td>\n",
       "      <td>5392.0</td>\n",
       "      <td>B0000261KX, B000059OB9</td>\n",
       "      <td>3.0</td>\n",
       "      <td>3.0</td>\n",
       "      <td>4.5</td>\n",
       "      <td>6, 10</td>\n",
       "    </tr>\n",
       "    <tr>\n",
       "      <th>8</th>\n",
       "      <td>231118597</td>\n",
       "      <td>Losing Matt Shepard</td>\n",
       "      <td>Book</td>\n",
       "      <td>277409.0</td>\n",
       "      <td>B000067D0Y, 080148605X</td>\n",
       "      <td>15.0</td>\n",
       "      <td>15.0</td>\n",
       "      <td>4.5</td>\n",
       "      <td>4, 6</td>\n",
       "    </tr>\n",
       "    <tr>\n",
       "      <th>15</th>\n",
       "      <td>1559362022</td>\n",
       "      <td>Wake Up and Smell the Coffee</td>\n",
       "      <td>Book</td>\n",
       "      <td>518927.0</td>\n",
       "      <td>1559360968, 1559361247</td>\n",
       "      <td>8.0</td>\n",
       "      <td>8.0</td>\n",
       "      <td>4.0</td>\n",
       "      <td>8, 9</td>\n",
       "    </tr>\n",
       "    <tr>\n",
       "      <th>17</th>\n",
       "      <td>849311012</td>\n",
       "      <td>Telecommunications Cost Management</td>\n",
       "      <td>Book</td>\n",
       "      <td>570183.0</td>\n",
       "      <td>1578200326</td>\n",
       "      <td>3.0</td>\n",
       "      <td>3.0</td>\n",
       "      <td>3.5</td>\n",
       "      <td>9</td>\n",
       "    </tr>\n",
       "    <tr>\n",
       "      <th>...</th>\n",
       "      <td>...</td>\n",
       "      <td>...</td>\n",
       "      <td>...</td>\n",
       "      <td>...</td>\n",
       "      <td>...</td>\n",
       "      <td>...</td>\n",
       "      <td>...</td>\n",
       "      <td>...</td>\n",
       "      <td>...</td>\n",
       "    </tr>\n",
       "    <tr>\n",
       "      <th>99966</th>\n",
       "      <td>375431497</td>\n",
       "      <td>Three Weeks in Paris : A Novel (Random House L...</td>\n",
       "      <td>Book</td>\n",
       "      <td>1041442.0</td>\n",
       "      <td>006109207X</td>\n",
       "      <td>31.0</td>\n",
       "      <td>31.0</td>\n",
       "      <td>2.0</td>\n",
       "      <td>7</td>\n",
       "    </tr>\n",
       "    <tr>\n",
       "      <th>99967</th>\n",
       "      <td>750672064</td>\n",
       "      <td>Understanding &amp; Servicing Alarm Systems</td>\n",
       "      <td>Book</td>\n",
       "      <td>247871.0</td>\n",
       "      <td>9992095881</td>\n",
       "      <td>1.0</td>\n",
       "      <td>1.0</td>\n",
       "      <td>2.0</td>\n",
       "      <td>2</td>\n",
       "    </tr>\n",
       "    <tr>\n",
       "      <th>99979</th>\n",
       "      <td>013026248X</td>\n",
       "      <td>The Strategy and Tactics of Pricing: A Guide t...</td>\n",
       "      <td>Book</td>\n",
       "      <td>3618.0</td>\n",
       "      <td>068483443X</td>\n",
       "      <td>21.0</td>\n",
       "      <td>21.0</td>\n",
       "      <td>5.0</td>\n",
       "      <td>4</td>\n",
       "    </tr>\n",
       "    <tr>\n",
       "      <th>99982</th>\n",
       "      <td>1885767242</td>\n",
       "      <td>To A Thousand Generations</td>\n",
       "      <td>Book</td>\n",
       "      <td>272078.0</td>\n",
       "      <td>1885767250</td>\n",
       "      <td>4.0</td>\n",
       "      <td>4.0</td>\n",
       "      <td>5.0</td>\n",
       "      <td>6</td>\n",
       "    </tr>\n",
       "    <tr>\n",
       "      <th>99999</th>\n",
       "      <td>966616820</td>\n",
       "      <td>Secrets of Successful Fundraising</td>\n",
       "      <td>Book</td>\n",
       "      <td>461669.0</td>\n",
       "      <td>078795876X</td>\n",
       "      <td>1.0</td>\n",
       "      <td>1.0</td>\n",
       "      <td>4.0</td>\n",
       "      <td>9</td>\n",
       "    </tr>\n",
       "  </tbody>\n",
       "</table>\n",
       "<p>15560 rows × 9 columns</p>\n",
       "</div>"
      ],
      "text/plain": [
       "             asin                                              title  group  \\\n",
       "2       738700797                         Candlemas: Feast of Flames   Book   \n",
       "7      B00000AU3R                                              Batik  Music   \n",
       "8       231118597                                Losing Matt Shepard   Book   \n",
       "15     1559362022                       Wake Up and Smell the Coffee   Book   \n",
       "17      849311012                 Telecommunications Cost Management   Book   \n",
       "...           ...                                                ...    ...   \n",
       "99966   375431497  Three Weeks in Paris : A Novel (Random House L...   Book   \n",
       "99967   750672064            Understanding & Servicing Alarm Systems   Book   \n",
       "99979  013026248X  The Strategy and Tactics of Pricing: A Guide t...   Book   \n",
       "99982  1885767242                          To A Thousand Generations   Book   \n",
       "99999   966616820                  Secrets of Successful Fundraising   Book   \n",
       "\n",
       "       salesrank                 similar  total_reviews  downloaded_reviews  \\\n",
       "2       168596.0              1567184960           12.0                12.0   \n",
       "7         5392.0  B0000261KX, B000059OB9            3.0                 3.0   \n",
       "8       277409.0  B000067D0Y, 080148605X           15.0                15.0   \n",
       "15      518927.0  1559360968, 1559361247            8.0                 8.0   \n",
       "17      570183.0              1578200326            3.0                 3.0   \n",
       "...          ...                     ...            ...                 ...   \n",
       "99966  1041442.0              006109207X           31.0                31.0   \n",
       "99967   247871.0              9992095881            1.0                 1.0   \n",
       "99979     3618.0              068483443X           21.0                21.0   \n",
       "99982   272078.0              1885767250            4.0                 4.0   \n",
       "99999   461669.0              078795876X            1.0                 1.0   \n",
       "\n",
       "       avg_rating similarity  \n",
       "2             4.5          9  \n",
       "7             4.5      6, 10  \n",
       "8             4.5       4, 6  \n",
       "15            4.0       8, 9  \n",
       "17            3.5          9  \n",
       "...           ...        ...  \n",
       "99966         2.0          7  \n",
       "99967         2.0          2  \n",
       "99979         5.0          4  \n",
       "99982         5.0          6  \n",
       "99999         4.0          9  \n",
       "\n",
       "[15560 rows x 9 columns]"
      ]
     },
     "execution_count": 184,
     "metadata": {},
     "output_type": "execute_result"
    }
   ],
   "source": [
    "df_reduced[df_reduced['similarity'].notna()]"
   ]
  },
  {
   "cell_type": "code",
   "execution_count": 54,
   "metadata": {},
   "outputs": [
    {
     "data": {
      "text/plain": [
       "['Group', 'Item']"
      ]
     },
     "execution_count": 54,
     "metadata": {},
     "output_type": "execute_result"
    }
   ],
   "source": [
    "labels"
   ]
  },
  {
   "cell_type": "code",
   "execution_count": 113,
   "metadata": {},
   "outputs": [
    {
     "data": {
      "text/plain": [
       "['name']"
      ]
     },
     "execution_count": 113,
     "metadata": {},
     "output_type": "execute_result"
    }
   ],
   "source": [
    "get_node_property_names(labels[0])"
   ]
  },
  {
   "cell_type": "code",
   "execution_count": 185,
   "metadata": {},
   "outputs": [],
   "source": [
    "df_reduced.to_csv('amazon_reduced.csv',index = False)"
   ]
  },
  {
   "cell_type": "code",
   "execution_count": 173,
   "metadata": {},
   "outputs": [
    {
     "data": {
      "text/plain": [
       "True"
      ]
     },
     "execution_count": 173,
     "metadata": {},
     "output_type": "execute_result"
    }
   ],
   "source": [
    "'B0000261KX' in asin_list"
   ]
  },
  {
   "cell_type": "code",
   "execution_count": 168,
   "metadata": {},
   "outputs": [],
   "source": [
    "df_test = df.iloc[:10].copy()"
   ]
  },
  {
   "cell_type": "code",
   "execution_count": 171,
   "metadata": {},
   "outputs": [
    {
     "data": {
      "text/html": [
       "<div>\n",
       "<style scoped>\n",
       "    .dataframe tbody tr th:only-of-type {\n",
       "        vertical-align: middle;\n",
       "    }\n",
       "\n",
       "    .dataframe tbody tr th {\n",
       "        vertical-align: top;\n",
       "    }\n",
       "\n",
       "    .dataframe thead th {\n",
       "        text-align: right;\n",
       "    }\n",
       "</style>\n",
       "<table border=\"1\" class=\"dataframe\">\n",
       "  <thead>\n",
       "    <tr style=\"text-align: right;\">\n",
       "      <th></th>\n",
       "      <th>asin</th>\n",
       "      <th>title</th>\n",
       "      <th>group</th>\n",
       "      <th>salesrank</th>\n",
       "      <th>similar</th>\n",
       "      <th>total_reviews</th>\n",
       "      <th>downloaded_reviews</th>\n",
       "      <th>avg_rating</th>\n",
       "    </tr>\n",
       "  </thead>\n",
       "  <tbody>\n",
       "    <tr>\n",
       "      <th>0</th>\n",
       "      <td>771044445</td>\n",
       "      <td>NaN</td>\n",
       "      <td>NaN</td>\n",
       "      <td>NaN</td>\n",
       "      <td>NaN</td>\n",
       "      <td>NaN</td>\n",
       "      <td>NaN</td>\n",
       "      <td>NaN</td>\n",
       "    </tr>\n",
       "    <tr>\n",
       "      <th>1</th>\n",
       "      <td>827229534</td>\n",
       "      <td>Patterns of Preaching: A Sermon Sampler</td>\n",
       "      <td>Book</td>\n",
       "      <td>396585.0</td>\n",
       "      <td>NaN</td>\n",
       "      <td>2.0</td>\n",
       "      <td>2.0</td>\n",
       "      <td>5.0</td>\n",
       "    </tr>\n",
       "    <tr>\n",
       "      <th>2</th>\n",
       "      <td>738700797</td>\n",
       "      <td>Candlemas: Feast of Flames</td>\n",
       "      <td>Book</td>\n",
       "      <td>168596.0</td>\n",
       "      <td>1567184960</td>\n",
       "      <td>12.0</td>\n",
       "      <td>12.0</td>\n",
       "      <td>4.5</td>\n",
       "    </tr>\n",
       "    <tr>\n",
       "      <th>3</th>\n",
       "      <td>486287785</td>\n",
       "      <td>World War II Allied Fighter Planes Trading Cards</td>\n",
       "      <td>Book</td>\n",
       "      <td>1270652.0</td>\n",
       "      <td>NaN</td>\n",
       "      <td>1.0</td>\n",
       "      <td>1.0</td>\n",
       "      <td>5.0</td>\n",
       "    </tr>\n",
       "    <tr>\n",
       "      <th>4</th>\n",
       "      <td>842328327</td>\n",
       "      <td>Life Application Bible Commentary: 1 and 2 Tim...</td>\n",
       "      <td>Book</td>\n",
       "      <td>631289.0</td>\n",
       "      <td>NaN</td>\n",
       "      <td>1.0</td>\n",
       "      <td>1.0</td>\n",
       "      <td>4.0</td>\n",
       "    </tr>\n",
       "    <tr>\n",
       "      <th>5</th>\n",
       "      <td>1577943082</td>\n",
       "      <td>Prayers That Avail Much for Business: Executive</td>\n",
       "      <td>Book</td>\n",
       "      <td>455160.0</td>\n",
       "      <td>NaN</td>\n",
       "      <td>0.0</td>\n",
       "      <td>0.0</td>\n",
       "      <td>0.0</td>\n",
       "    </tr>\n",
       "    <tr>\n",
       "      <th>6</th>\n",
       "      <td>486220125</td>\n",
       "      <td>How the Other Half Lives: Studies Among the Te...</td>\n",
       "      <td>Book</td>\n",
       "      <td>188784.0</td>\n",
       "      <td>NaN</td>\n",
       "      <td>17.0</td>\n",
       "      <td>17.0</td>\n",
       "      <td>4.0</td>\n",
       "    </tr>\n",
       "    <tr>\n",
       "      <th>7</th>\n",
       "      <td>B00000AU3R</td>\n",
       "      <td>Batik</td>\n",
       "      <td>Music</td>\n",
       "      <td>5392.0</td>\n",
       "      <td>B0000261KX, B000059OB9</td>\n",
       "      <td>3.0</td>\n",
       "      <td>3.0</td>\n",
       "      <td>4.5</td>\n",
       "    </tr>\n",
       "    <tr>\n",
       "      <th>8</th>\n",
       "      <td>231118597</td>\n",
       "      <td>Losing Matt Shepard</td>\n",
       "      <td>Book</td>\n",
       "      <td>277409.0</td>\n",
       "      <td>B000067D0Y, 080148605X</td>\n",
       "      <td>15.0</td>\n",
       "      <td>15.0</td>\n",
       "      <td>4.5</td>\n",
       "    </tr>\n",
       "    <tr>\n",
       "      <th>9</th>\n",
       "      <td>1859677800</td>\n",
       "      <td>Making Bread: The Taste of Traditional Home-Ba...</td>\n",
       "      <td>Book</td>\n",
       "      <td>949166.0</td>\n",
       "      <td>NaN</td>\n",
       "      <td>0.0</td>\n",
       "      <td>0.0</td>\n",
       "      <td>0.0</td>\n",
       "    </tr>\n",
       "  </tbody>\n",
       "</table>\n",
       "</div>"
      ],
      "text/plain": [
       "         asin                                              title  group  \\\n",
       "0   771044445                                                NaN    NaN   \n",
       "1   827229534            Patterns of Preaching: A Sermon Sampler   Book   \n",
       "2   738700797                         Candlemas: Feast of Flames   Book   \n",
       "3   486287785   World War II Allied Fighter Planes Trading Cards   Book   \n",
       "4   842328327  Life Application Bible Commentary: 1 and 2 Tim...   Book   \n",
       "5  1577943082    Prayers That Avail Much for Business: Executive   Book   \n",
       "6   486220125  How the Other Half Lives: Studies Among the Te...   Book   \n",
       "7  B00000AU3R                                              Batik  Music   \n",
       "8   231118597                                Losing Matt Shepard   Book   \n",
       "9  1859677800  Making Bread: The Taste of Traditional Home-Ba...   Book   \n",
       "\n",
       "   salesrank                 similar  total_reviews  downloaded_reviews  \\\n",
       "0        NaN                     NaN            NaN                 NaN   \n",
       "1   396585.0                     NaN            2.0                 2.0   \n",
       "2   168596.0              1567184960           12.0                12.0   \n",
       "3  1270652.0                     NaN            1.0                 1.0   \n",
       "4   631289.0                     NaN            1.0                 1.0   \n",
       "5   455160.0                     NaN            0.0                 0.0   \n",
       "6   188784.0                     NaN           17.0                17.0   \n",
       "7     5392.0  B0000261KX, B000059OB9            3.0                 3.0   \n",
       "8   277409.0  B000067D0Y, 080148605X           15.0                15.0   \n",
       "9   949166.0                     NaN            0.0                 0.0   \n",
       "\n",
       "   avg_rating  \n",
       "0         NaN  \n",
       "1         5.0  \n",
       "2         4.5  \n",
       "3         5.0  \n",
       "4         4.0  \n",
       "5         0.0  \n",
       "6         4.0  \n",
       "7         4.5  \n",
       "8         4.5  \n",
       "9         0.0  "
      ]
     },
     "execution_count": 171,
     "metadata": {},
     "output_type": "execute_result"
    }
   ],
   "source": [
    "df_test"
   ]
  },
  {
   "cell_type": "code",
   "execution_count": 95,
   "metadata": {},
   "outputs": [],
   "source": [
    "for i in range(2):\n",
    "    if not pd.isna(df_test.loc[i]['similar']):\n",
    "        similar_o = df_test.loc[i]['similar'].split(', ')\n",
    "        for similar in similar_o:\n",
    "            if similar not in asin_list:\n",
    "                similar_o.remove(similar)\n",
    "        if len(similar_o) >0:\n",
    "            similar_n = ''\n",
    "            for j in range(len(similar_o)):\n",
    "                if j == 0:\n",
    "                    similar_n = similar_o[j] \n",
    "                else:\n",
    "                    similar_n = similar_n+', '+similar_o[j]\n",
    "            df_test.loc[i, 'similar'] = similar_n\n",
    "        else:\n",
    "            df_test.loc[i, 'similar'] = np.nan"
   ]
  },
  {
   "cell_type": "code",
   "execution_count": 175,
   "metadata": {},
   "outputs": [],
   "source": [
    "df_reduced = df.iloc[:100000].copy()"
   ]
  },
  {
   "cell_type": "code",
   "execution_count": 183,
   "metadata": {},
   "outputs": [
    {
     "data": {
      "text/html": [
       "<div>\n",
       "<style scoped>\n",
       "    .dataframe tbody tr th:only-of-type {\n",
       "        vertical-align: middle;\n",
       "    }\n",
       "\n",
       "    .dataframe tbody tr th {\n",
       "        vertical-align: top;\n",
       "    }\n",
       "\n",
       "    .dataframe thead th {\n",
       "        text-align: right;\n",
       "    }\n",
       "</style>\n",
       "<table border=\"1\" class=\"dataframe\">\n",
       "  <thead>\n",
       "    <tr style=\"text-align: right;\">\n",
       "      <th></th>\n",
       "      <th>asin</th>\n",
       "      <th>title</th>\n",
       "      <th>group</th>\n",
       "      <th>salesrank</th>\n",
       "      <th>similar</th>\n",
       "      <th>total_reviews</th>\n",
       "      <th>downloaded_reviews</th>\n",
       "      <th>avg_rating</th>\n",
       "      <th>similarity</th>\n",
       "    </tr>\n",
       "  </thead>\n",
       "  <tbody>\n",
       "    <tr>\n",
       "      <th>0</th>\n",
       "      <td>771044445</td>\n",
       "      <td>NaN</td>\n",
       "      <td>NaN</td>\n",
       "      <td>NaN</td>\n",
       "      <td>NaN</td>\n",
       "      <td>NaN</td>\n",
       "      <td>NaN</td>\n",
       "      <td>NaN</td>\n",
       "      <td>NaN</td>\n",
       "    </tr>\n",
       "    <tr>\n",
       "      <th>1</th>\n",
       "      <td>827229534</td>\n",
       "      <td>Patterns of Preaching: A Sermon Sampler</td>\n",
       "      <td>Book</td>\n",
       "      <td>396585.0</td>\n",
       "      <td>NaN</td>\n",
       "      <td>2.0</td>\n",
       "      <td>2.0</td>\n",
       "      <td>5.0</td>\n",
       "      <td>NaN</td>\n",
       "    </tr>\n",
       "    <tr>\n",
       "      <th>2</th>\n",
       "      <td>738700797</td>\n",
       "      <td>Candlemas: Feast of Flames</td>\n",
       "      <td>Book</td>\n",
       "      <td>168596.0</td>\n",
       "      <td>1567184960</td>\n",
       "      <td>12.0</td>\n",
       "      <td>12.0</td>\n",
       "      <td>4.5</td>\n",
       "      <td>9</td>\n",
       "    </tr>\n",
       "    <tr>\n",
       "      <th>3</th>\n",
       "      <td>486287785</td>\n",
       "      <td>World War II Allied Fighter Planes Trading Cards</td>\n",
       "      <td>Book</td>\n",
       "      <td>1270652.0</td>\n",
       "      <td>NaN</td>\n",
       "      <td>1.0</td>\n",
       "      <td>1.0</td>\n",
       "      <td>5.0</td>\n",
       "      <td>NaN</td>\n",
       "    </tr>\n",
       "    <tr>\n",
       "      <th>4</th>\n",
       "      <td>842328327</td>\n",
       "      <td>Life Application Bible Commentary: 1 and 2 Tim...</td>\n",
       "      <td>Book</td>\n",
       "      <td>631289.0</td>\n",
       "      <td>NaN</td>\n",
       "      <td>1.0</td>\n",
       "      <td>1.0</td>\n",
       "      <td>4.0</td>\n",
       "      <td>NaN</td>\n",
       "    </tr>\n",
       "    <tr>\n",
       "      <th>...</th>\n",
       "      <td>...</td>\n",
       "      <td>...</td>\n",
       "      <td>...</td>\n",
       "      <td>...</td>\n",
       "      <td>...</td>\n",
       "      <td>...</td>\n",
       "      <td>...</td>\n",
       "      <td>...</td>\n",
       "      <td>...</td>\n",
       "    </tr>\n",
       "    <tr>\n",
       "      <th>99995</th>\n",
       "      <td>1585744212</td>\n",
       "      <td>The Ultimate Chili Book: A Connoisseur's Guide...</td>\n",
       "      <td>Book</td>\n",
       "      <td>345915.0</td>\n",
       "      <td>NaN</td>\n",
       "      <td>0.0</td>\n",
       "      <td>0.0</td>\n",
       "      <td>0.0</td>\n",
       "      <td>NaN</td>\n",
       "    </tr>\n",
       "    <tr>\n",
       "      <th>99996</th>\n",
       "      <td>340728345</td>\n",
       "      <td>Wallace &amp; Gromit: Anoraknophobia</td>\n",
       "      <td>Book</td>\n",
       "      <td>805006.0</td>\n",
       "      <td>NaN</td>\n",
       "      <td>4.0</td>\n",
       "      <td>4.0</td>\n",
       "      <td>5.0</td>\n",
       "      <td>NaN</td>\n",
       "    </tr>\n",
       "    <tr>\n",
       "      <th>99997</th>\n",
       "      <td>1857925246</td>\n",
       "      <td>A Peep Behind the Scenes</td>\n",
       "      <td>Book</td>\n",
       "      <td>1467003.0</td>\n",
       "      <td>NaN</td>\n",
       "      <td>2.0</td>\n",
       "      <td>2.0</td>\n",
       "      <td>3.0</td>\n",
       "      <td>NaN</td>\n",
       "    </tr>\n",
       "    <tr>\n",
       "      <th>99998</th>\n",
       "      <td>962153222</td>\n",
       "      <td>Translations and Annotations of Choral Reperto...</td>\n",
       "      <td>Book</td>\n",
       "      <td>606100.0</td>\n",
       "      <td>NaN</td>\n",
       "      <td>0.0</td>\n",
       "      <td>0.0</td>\n",
       "      <td>0.0</td>\n",
       "      <td>NaN</td>\n",
       "    </tr>\n",
       "    <tr>\n",
       "      <th>99999</th>\n",
       "      <td>966616820</td>\n",
       "      <td>Secrets of Successful Fundraising</td>\n",
       "      <td>Book</td>\n",
       "      <td>461669.0</td>\n",
       "      <td>078795876X</td>\n",
       "      <td>1.0</td>\n",
       "      <td>1.0</td>\n",
       "      <td>4.0</td>\n",
       "      <td>9</td>\n",
       "    </tr>\n",
       "  </tbody>\n",
       "</table>\n",
       "<p>100000 rows × 9 columns</p>\n",
       "</div>"
      ],
      "text/plain": [
       "             asin                                              title group  \\\n",
       "0       771044445                                                NaN   NaN   \n",
       "1       827229534            Patterns of Preaching: A Sermon Sampler  Book   \n",
       "2       738700797                         Candlemas: Feast of Flames  Book   \n",
       "3       486287785   World War II Allied Fighter Planes Trading Cards  Book   \n",
       "4       842328327  Life Application Bible Commentary: 1 and 2 Tim...  Book   \n",
       "...           ...                                                ...   ...   \n",
       "99995  1585744212  The Ultimate Chili Book: A Connoisseur's Guide...  Book   \n",
       "99996   340728345                   Wallace & Gromit: Anoraknophobia  Book   \n",
       "99997  1857925246                           A Peep Behind the Scenes  Book   \n",
       "99998   962153222  Translations and Annotations of Choral Reperto...  Book   \n",
       "99999   966616820                  Secrets of Successful Fundraising  Book   \n",
       "\n",
       "       salesrank     similar  total_reviews  downloaded_reviews  avg_rating  \\\n",
       "0            NaN         NaN            NaN                 NaN         NaN   \n",
       "1       396585.0         NaN            2.0                 2.0         5.0   \n",
       "2       168596.0  1567184960           12.0                12.0         4.5   \n",
       "3      1270652.0         NaN            1.0                 1.0         5.0   \n",
       "4       631289.0         NaN            1.0                 1.0         4.0   \n",
       "...          ...         ...            ...                 ...         ...   \n",
       "99995   345915.0         NaN            0.0                 0.0         0.0   \n",
       "99996   805006.0         NaN            4.0                 4.0         5.0   \n",
       "99997  1467003.0         NaN            2.0                 2.0         3.0   \n",
       "99998   606100.0         NaN            0.0                 0.0         0.0   \n",
       "99999   461669.0  078795876X            1.0                 1.0         4.0   \n",
       "\n",
       "      similarity  \n",
       "0            NaN  \n",
       "1            NaN  \n",
       "2              9  \n",
       "3            NaN  \n",
       "4            NaN  \n",
       "...          ...  \n",
       "99995        NaN  \n",
       "99996        NaN  \n",
       "99997        NaN  \n",
       "99998        NaN  \n",
       "99999          9  \n",
       "\n",
       "[100000 rows x 9 columns]"
      ]
     },
     "execution_count": 183,
     "metadata": {},
     "output_type": "execute_result"
    }
   ],
   "source": [
    "df_reduced"
   ]
  },
  {
   "cell_type": "code",
   "execution_count": 92,
   "metadata": {},
   "outputs": [],
   "source": [
    "asin_list = df_reduced['asin'].tolist()"
   ]
  },
  {
   "cell_type": "code",
   "execution_count": 147,
   "metadata": {},
   "outputs": [
    {
     "data": {
      "text/plain": [
       "False"
      ]
     },
     "execution_count": 147,
     "metadata": {},
     "output_type": "execute_result"
    }
   ],
   "source": [
    "'0687074231' in asin_list"
   ]
  },
  {
   "cell_type": "code",
   "execution_count": 177,
   "metadata": {},
   "outputs": [],
   "source": [
    "for i in range(100000):\n",
    "    if not pd.isna(df_reduced.loc[i]['similar']):\n",
    "        similar_o = df_reduced.loc[i]['similar'].split(', ')\n",
    "        similar_n = ''\n",
    "        for similar in similar_o:\n",
    "            if similar in asin_list:\n",
    "                if similar_n == '':\n",
    "                    similar_n = similar\n",
    "                else:\n",
    "                    similar_n = similar_n + ', ' + similar\n",
    "        if similar_n == '':\n",
    "            df_reduced.loc[i, 'similar'] = np.nan\n",
    "        else:\n",
    "            df_reduced.loc[i, 'similar'] = similar_n"
   ]
  },
  {
   "cell_type": "code",
   "execution_count": 102,
   "metadata": {},
   "outputs": [
    {
     "data": {
      "text/plain": [
       "array([nan, 'Book', 'Music', 'DVD', 'Video', 'Toy', 'Video Games',\n",
       "       'Software'], dtype=object)"
      ]
     },
     "execution_count": 102,
     "metadata": {},
     "output_type": "execute_result"
    }
   ],
   "source": [
    "df_reduced['group'].unique()"
   ]
  },
  {
   "cell_type": "code",
   "execution_count": null,
   "metadata": {},
   "outputs": [],
   "source": [
    "SELECT * FROM cypher('amazon_metadata_test', $$ MATCH ()-[r]->() RETURN DISTINCT TYPE(r) $$) AS (relation_type agtype);"
   ]
  },
  {
   "cell_type": "code",
   "execution_count": 182,
   "metadata": {},
   "outputs": [],
   "source": [
    "for i in range(100000):\n",
    "    if not pd.isna(df_reduced.loc[i]['similar']):\n",
    "        sim_list = df_reduced.loc[i]['similar'].split(', ')\n",
    "        similarity = ''\n",
    "        for j in range(len(sim_list)):\n",
    "            temp = np.random.randint(1, 11)\n",
    "            if j == 0:\n",
    "                similarity = str(temp)\n",
    "            else:\n",
    "                similarity = similarity+', '+str(temp)\n",
    "        df_reduced.loc[i,'similarity'] = similarity\n",
    "    else:\n",
    "        df_reduced.loc[i,'similarity'] = np.nan"
   ]
  },
  {
   "cell_type": "code",
   "execution_count": 101,
   "metadata": {},
   "outputs": [],
   "source": [
    "df_reduced.to_csv('amazon_reduced.csv',index = False)"
   ]
  },
  {
   "cell_type": "code",
   "execution_count": 188,
   "metadata": {},
   "outputs": [],
   "source": [
    "for i in range(100000):\n",
    "    n_dict={}\n",
    "    for column in ['asin', 'title', 'salesrank', 'total_reviews', 'downloaded_reviews', 'avg_rating']:\n",
    "        if not pd.isna(df_reduced.loc[i][column]):\n",
    "            n_dict[column] = df_reduced.loc[i][column]\n",
    "        else:\n",
    "            n_dict[column] = ''\n",
    "    n_dict['title'] = n_dict['title'].replace(\"'\", \"\")\n",
    "    n_dict['title'] = n_dict['title'].replace(\"$\", \"S\")\n",
    "    n_dict['title'] = n_dict['title'].replace(\"\\\\\", \"\")\n",
    "    query = f\"\"\"SELECT * FROM cypher('amazon', $$ CREATE (n:Product {{ asin: '{n_dict['asin']}', title: '{n_dict['title']}', salesrank: '{n_dict['salesrank']}', total_reviews: '{n_dict['total_reviews']}', downloaded_reviews: '{n_dict['downloaded_reviews']}', avg_rating: '{n_dict['avg_rating']}' }}) $$) AS (a agtype);\"\"\"\n",
    "    execute(query)"
   ]
  },
  {
   "cell_type": "code",
   "execution_count": 189,
   "metadata": {},
   "outputs": [],
   "source": [
    "group = df_reduced['group'].unique().tolist()"
   ]
  },
  {
   "cell_type": "code",
   "execution_count": 190,
   "metadata": {},
   "outputs": [],
   "source": [
    "for i in range(len(group)-1):\n",
    "    name = group[i+1]\n",
    "    query = f\"\"\"SELECT * FROM cypher('amazon', $$ CREATE (n:Group {{name: '{name}'}})$$) AS (a agtype);\"\"\"\n",
    "    execute(query)"
   ]
  },
  {
   "cell_type": "code",
   "execution_count": 191,
   "metadata": {},
   "outputs": [],
   "source": [
    "#create edges:BELONGS_TO for node item and group\n",
    "for i in range(100000):\n",
    "    if not pd.isna(df_reduced.loc[i]['group']):\n",
    "        group = df_reduced.loc[i]['group']\n",
    "        asin = df_reduced.loc[i]['asin']\n",
    "        query = f\"SELECT * FROM cypher ('amazon', $$ MATCH (source:Product {{ asin: '{asin}' }}), (target:Group {{ name: '{group}' }}) CREATE (source)-[:BELONGS_TO]->(target) $$) as (a agtype);\"\n",
    "        execute(query)"
   ]
  },
  {
   "cell_type": "code",
   "execution_count": 199,
   "metadata": {},
   "outputs": [
    {
     "name": "stdout",
     "output_type": "stream",
     "text": [
      "SELECT * FROM cypher ('amazon', $$ MATCH (source:Product { asin: '738700797' }), (target:Item { asin: '1567184960' }) CREATE (source)-[:SIMILAR_TO {similarity:9}]->(target) $$) as (a agtype);\n"
     ]
    }
   ],
   "source": [
    "#create edges:SIMILAR_TO for node item and item\n",
    "for i in range(3):\n",
    "    if not pd.isna(df_reduced.loc[i]['similar']):\n",
    "        sim_asins =  df_reduced.loc[i]['similar'].split(', ')\n",
    "        similarities =  df_reduced.loc[i]['similarity'].split(', ')\n",
    "        asin = df_reduced.loc[i]['asin']\n",
    "        for j in range(len(sim_asins)):\n",
    "            sim_asin = sim_asins[j]\n",
    "            similarity = int(similarities[j])\n",
    "            query = f\"SELECT * FROM cypher ('amazon', $$ MATCH (source:Product {{ asin: '{asin}' }}), (target:Product {{ asin: '{sim_asin}' }}) CREATE (source)-[:SIMILAR_TO {{similarity:{similarity}}}]->(target) $$) as (a agtype);\"\n",
    "            print(query)\n",
    "            #execute(query)"
   ]
  },
  {
   "cell_type": "code",
   "execution_count": 195,
   "metadata": {},
   "outputs": [
    {
     "data": {
      "text/plain": [
       "True"
      ]
     },
     "execution_count": 195,
     "metadata": {},
     "output_type": "execute_result"
    }
   ],
   "source": [
    "'1567184960' in asin_list"
   ]
  },
  {
   "cell_type": "code",
   "execution_count": null,
   "metadata": {},
   "outputs": [],
   "source": []
  }
 ],
 "metadata": {
  "kernelspec": {
   "display_name": "Python 3",
   "language": "python",
   "name": "python3"
  },
  "language_info": {
   "codemirror_mode": {
    "name": "ipython",
    "version": 3
   },
   "file_extension": ".py",
   "mimetype": "text/x-python",
   "name": "python",
   "nbconvert_exporter": "python",
   "pygments_lexer": "ipython3",
   "version": "3.8.3"
  }
 },
 "nbformat": 4,
 "nbformat_minor": 4
}
