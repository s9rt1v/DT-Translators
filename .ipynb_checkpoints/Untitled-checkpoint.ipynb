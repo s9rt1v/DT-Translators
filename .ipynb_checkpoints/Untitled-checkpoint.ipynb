{
 "cells": [
  {
   "cell_type": "code",
   "execution_count": 1,
   "metadata": {},
   "outputs": [],
   "source": [
    "import numpy as np\n",
    "import glob\n",
    "import os, os.path\n",
    "import math\n",
    "import pandas as pd\n",
    "from antlr4 import *\n",
    "from CypherLexer import CypherLexer\n",
    "from CypherParser import CypherParser\n",
    "from CypherParser import CypherParser\n",
    "from CypherVisitor import CypherVisitor"
   ]
  },
  {
   "cell_type": "code",
   "execution_count": 2,
   "metadata": {},
   "outputs": [],
   "source": [
    "input_stream = InputStream(\"MATCH (x:Account{isBlocked:'no'})−[:isLocatedIn]−>(g:City)<−[:isLocatedIn]−(y:Account) MATCH (x)−[e:Transfer]−>(y) WHERE y.isBlocked='yes' AND g.name='Ankh−Morpork' RETURN DISTINCT x.owner AS A, y.owner AS B ORDER BY x.age DESC LIMIT 10\")\n",
    "lexer = CypherLexer(input_stream)\n",
    "token_stream = CommonTokenStream(lexer)\n",
    "parser = CypherParser(token_stream)\n",
    "tree = parser.oC_Cypher()  "
   ]
  },
  {
   "cell_type": "code",
   "execution_count": 9,
   "metadata": {},
   "outputs": [],
   "source": [
    "input_stream = InputStream(\"MATCH (a:Account {isBlocked:'no'}) −[:isLocatedIn]−>(g:City {name:'Ankh−Morpork'}) <−[:isLocatedIn]−(b:Account {isBlocked:'yes'}), p = (a)−[e:Transfer*2]−>(b) WHERE e.amount> 100 RETURN a.owner, b.owner LIMIT 10\")\n",
    "lexer = CypherLexer(input_stream)\n",
    "token_stream = CommonTokenStream(lexer)\n",
    "parser = CypherParser(token_stream)\n",
    "tree = parser.oC_Cypher()"
   ]
  },
  {
   "cell_type": "code",
   "execution_count": 19,
   "metadata": {},
   "outputs": [],
   "source": [
    "input_stream = InputStream(\"MATCH (n:Label1) RETURN n.name AS name UNION ALL MATCH (n:Label2) RETURN n.name AS name\")\n",
    "lexer = CypherLexer(input_stream)\n",
    "token_stream = CommonTokenStream(lexer)\n",
    "parser = CypherParser(token_stream)\n",
    "tree = parser.oC_Cypher()"
   ]
  },
  {
   "cell_type": "code",
   "execution_count": 15,
   "metadata": {},
   "outputs": [],
   "source": [
    "class CypherToSqlVisitor(CypherVisitor):\n",
    "    def __init__(self):\n",
    "        self.match_count = 0\n",
    "        self.pattern_count = 0\n",
    "        self.element_chain_count = 0\n",
    "        self.sql = 'WITH RECURSIVE recursive_query AS '\n",
    "        self.non_recursion = ''\n",
    "        self.recursion = ''\n",
    "        self.rt = ' '\n",
    "        self.where_clause = ' '\n",
    "        self.recursive_where = ''\n",
    "        self.select = ''\n",
    "        self.recursive_select = 'SELECT'\n",
    "        self.from_clause = 'FROM '\n",
    "        self.tables = []\n",
    "        self.nodes = []\n",
    "        self.edges = []\n",
    "        self.maprole = ''\n",
    "        self.isRecursive = False\n",
    "        self.recursiveEdge = []\n",
    "        self.rangeList = []\n",
    "\n",
    "    #def visitOC_ReadingClause(self, ctx:CypherParser.OC_ReadingClauseContext):\n",
    "        \n",
    "    def visitOC_Match(self, ctx: CypherParser.OC_MatchContext):\n",
    "        self.match_count += 1\n",
    "        \n",
    "        return self.visitChildren(ctx)\n",
    "    \n",
    "        \n",
    "    def visitOC_PatternPart(self, ctx:CypherParser.OC_PatternPartContext):\n",
    "        if self.element_chain_count>0:\n",
    "            self.element_chain_count += 1\n",
    "        #if self.pattern_count > 1:\n",
    "            #self.pattern[self.pattern_count] += 'UNION ALL '\n",
    "        \n",
    "        return self.visitChildren(ctx)\n",
    "    \n",
    "    def visitOC_PatternElementChain(self, ctx:CypherParser.OC_PatternElementChainContext):\n",
    "        self.element_chain_count += 1\n",
    "        return self.visitChildren(ctx)\n",
    "    \n",
    "    def visitOC_NodePattern(self, ctx:CypherParser.OC_NodePatternContext):\n",
    "        node_dict = {}\n",
    "        if ctx.oC_Variable():\n",
    "            node_dict['name'] = ctx.oC_Variable().getText()\n",
    "            if ctx.oC_NodeLabels():\n",
    "                if len(ctx.oC_NodeLabels().oC_NodeLabel()) == 1:\n",
    "                    node_dict['label'] = ctx.oC_NodeLabels().oC_NodeLabel()[0].oC_LabelName().getText()\n",
    "                    table_name = f\"{node_dict['label']} {node_dict['name']}\"\n",
    "                    if table_name not in self.tables:\n",
    "                        self.tables.append(table_name)\n",
    "                else:\n",
    "                    for name in ctx.oC_NodeLabels().oC_NodeLabel():\n",
    "                        labelname = name.getText()\n",
    "                        table_name = labelname.lower() + str(self.element_chain_count)\n",
    "                        node_dict['label'] = {'table_label':labelname, 'table_name':table_name}\n",
    "                        table_name = f\"{node_dict['label']['table_label']} {node_dict['label']['table_name']}\"\n",
    "                        if table_name not in self.tables:\n",
    "                            self.tables.append(table_name)\n",
    "        else:\n",
    "            if ctx.oC_NodeLabels():\n",
    "                if len(ctx.oC_NodeLabels().oC_NodeLabel()) == 1:\n",
    "                    labelname = ctx.oC_NodeLabels().oC_NodeLabel()[0].oC_LabelName().getText()\n",
    "                    node_dict['name'] = labelname.lower() + str(self.element_chain_count)\n",
    "                    node_dict['label'] = labelname\n",
    "                    table_name = f\"{node_dict['label']} {node_dict['name']}\"\n",
    "                    if table_name not in self.tables:\n",
    "                        self.tables.append(table_name)\n",
    "                else:\n",
    "                    node_dict['name'] = []\n",
    "                    node_dict['label'] = []\n",
    "                    for name in ctx.oC_NodeLabels().oC_NodeLabel():\n",
    "                        labelname = name.getText()\n",
    "                        node_dict['name'].append(labelname.lower() + str(self.element_chain_count))\n",
    "                        node_dict['label'].append(labelname)\n",
    "                        table_name = f\"{node_dict['label'][-1]} {node_dict['name'][-1]}\"\n",
    "                        if table_name not in self.tables:\n",
    "                            self.tables.append(table_name)\n",
    "        self.nodes.append(node_dict)\n",
    "        if ctx.oC_Properties():\n",
    "            self.maprole = 'node'\n",
    "            self.visit(ctx.oC_Properties().oC_MapLiteral())\n",
    "            \n",
    "        #return self.visitChildren(ctx)\n",
    "    \n",
    "    def visitOC_MapLiteral(self, ctx:CypherParser.OC_MapLiteralContext):\n",
    "        keys = ctx.oC_PropertyKeyName()\n",
    "        values = ctx.oC_Expression()\n",
    "        properties = []\n",
    "        for key, value in zip(keys, values):\n",
    "            properties.append({'key':key.getText(),'value':value.getText()})\n",
    "            if self.maprole == 'node':\n",
    "                s = f\"{self.nodes[-1]['name']}.{key.getText()} = {value.getText()}\"\n",
    "                self.nodes[-1]['properties'] = properties\n",
    "            elif self.maprole == 'edge':\n",
    "                s = f\"{self.edges[-1]['name']}.{key.getText()} = {value.getText()}\"\n",
    "                self.edges[-1]['properties'] = properties\n",
    "            if self.where_clause == ' ':\n",
    "                self.where_clause += f'WHERE {s}' \n",
    "            else:\n",
    "                self.where_clause = self.where_clause + ' AND ' + s\n",
    "        \n",
    "    \n",
    "    def visitOC_RelationshipPattern(self, ctx:CypherParser.OC_RelationshipPatternContext):\n",
    "        relation_dict = {}\n",
    "        if ctx.oC_RelationshipDetail().oC_Variable():\n",
    "            relation_dict['name'] = ctx.oC_RelationshipDetail().oC_Variable().getText()\n",
    "            if ctx.oC_RelationshipDetail().oC_RelationshipTypes():\n",
    "                if len(ctx.oC_RelationshipDetail().oC_RelationshipTypes().oC_RelTypeName()) == 1:\n",
    "                    labelname = ctx.oC_RelationshipDetail().oC_RelationshipTypes().oC_RelTypeName()[0].getText()\n",
    "                    relation_dict['label'] = labelname\n",
    "                    table_name = f\"{relation_dict['label']} {relation_dict['name']}\"\n",
    "                    if table_name not in self.tables:\n",
    "                        self.tables.append(table_name)\n",
    "                else: \n",
    "                    for name in ctx.oC_RelationshipDetail().oC_RelationshipTypes().oC_RelTypeName():\n",
    "                        labelname = name.getText()\n",
    "                        table_name = labelname.lower() + str(self.element_chain_count)\n",
    "                        relation_dict['label'] = {'table_label':labelname, 'table_name':table_name}\n",
    "                        table_name = f\"{relation_dict['label']['table_label']} {relation_dict['label']['table_name']}\"\n",
    "                        if table_name not in self.tables:\n",
    "                            self.tables.append(table_name)\n",
    "        else:\n",
    "            if ctx.oC_RelationshipDetail().oC_RelationshipTypes():\n",
    "                if len(ctx.oC_RelationshipDetail().oC_RelationshipTypes().oC_RelTypeName()) == 1:\n",
    "                    labelname = ctx.oC_RelationshipDetail().oC_RelationshipTypes().oC_RelTypeName()[0].getText()\n",
    "                    relation_dict['name'] = labelname.lower() + str(self.element_chain_count)\n",
    "                    relation_dict['label'] = labelname\n",
    "                    table_name = f\"{relation_dict['label']} {relation_dict['name']}\"\n",
    "                    if table_name not in self.tables:\n",
    "                        self.tables.append(table_name)\n",
    "                else:\n",
    "                    relation_dict['name'] = []\n",
    "                    relation_dict['label'] = []\n",
    "                    for name in ctx.oC_RelationshipDetail().oC_RelationshipTypes().oC_RelTypeName():\n",
    "                        labelname = name.getText()\n",
    "                        relation_dict['name'].append(labelname.lower() + str(self.element_chain_count))\n",
    "                        relation_dict['label'].append(labelname)\n",
    "                        table_name = f\"{relation_dict['label'][-1]} {relation_dict['name'][-1]}\"\n",
    "                        if table_name not in self.tables:\n",
    "                            self.tables.append(table_name)\n",
    "        relation = ctx.getText()\n",
    "        if '>' in relation:\n",
    "            relation_dict['direction'] = '>'\n",
    "        elif '<' in relation:\n",
    "            relation_dict['direction'] = '<'\n",
    "        relation_dict['index'] = self.element_chain_count\n",
    "        self.edges.append(relation_dict)\n",
    "        if ctx.oC_RelationshipDetail().oC_Properties():\n",
    "            self.maprole = 'edge'\n",
    "            self.visit(ctx.oC_RelationshipDetail().oC_Properties().oC_MapLiteral())\n",
    "        if ctx.oC_RelationshipDetail().oC_RangeLiteral():\n",
    "            self.visit(ctx.oC_RelationshipDetail().oC_RangeLiteral())\n",
    "    \n",
    "    def visitOC_RangeLiteral(self, ctx:CypherParser.OC_RangeLiteralContext):\n",
    "        self.isRecursive = True\n",
    "        self.edges[-1]['range'] = ctx.getText().split('*')[1]\n",
    "        return self.visitChildren(ctx)\n",
    "    \n",
    "    def visitOC_NodeLabel(self, ctx:CypherParser.OC_NodePatternContext):\n",
    "        \n",
    "        return self.visitChildren(ctx)\n",
    "    \n",
    "    def visitOC_Where(self, ctx:CypherParser.OC_WhereContext):\n",
    "        s = ctx.oC_Expression().getText()\n",
    "        if self.where_clause == ' ':\n",
    "            self.where_clause += f'WHERE {s}' \n",
    "        else:\n",
    "            self.where_clause = self.where_clause + ' AND ' + s\n",
    "        \n",
    "        return self.visitChildren(ctx)\n",
    "    \n",
    "    # Visit a parse tree produced by CypherParser#oC_Return.\n",
    "    def visitOC_Return(self, ctx: CypherParser.OC_ReturnContext):\n",
    "        items = ctx.oC_ProjectionBody().oC_ProjectionItems().getText()\n",
    "        if 'DISTINCT' in ctx.oC_ProjectionBody().getText(): \n",
    "            self.select = f'SELECT DISTINCT {items} '\n",
    "        else:\n",
    "            self.select = f'SELECT {items} '\n",
    "        return self.visitChildren(ctx)\n",
    "\n",
    "    def visitOC_Limit(self, ctx:CypherParser.OC_LimitContext):\n",
    "        limit = ctx.getText()\n",
    "        self.rt = self.rt + limit + \" \"\n",
    "        return self.visitChildren(ctx)\n",
    "    \n",
    "    def visitOC_Order(self, ctx:CypherParser.OC_OrderContext):\n",
    "        self.rt = self.rt + ctx.getText() + \" \"\n",
    "        return self.visitChildren(ctx)\n",
    "    \n",
    "    def nodeJudger(self,edge,node, pos):\n",
    "        node_label = ''\n",
    "        node_name = ''\n",
    "        if node:\n",
    "            node_keys = list(node.keys())\n",
    "            if 'label' in node_keys:\n",
    "                node_name = node['name']\n",
    "                node_label = node['label']\n",
    "                if 'range' not in list(edge.keys()):\n",
    "                    s = f\"{edge['name']}.\\\"{node['label']}({pos})\\\" = {node['name']}.ID\"\n",
    "                    if self.where_clause == ' ':\n",
    "                        self.where_clause += f'WHERE {s}' \n",
    "                    else:\n",
    "                        self.where_clause = self.where_clause + ' AND ' + s\n",
    "            else:\n",
    "                for node_temp in self.nodes:\n",
    "                    if node_temp['name'] == node['name']:\n",
    "                        if 'label' in list(node_temp.keys()):\n",
    "                            node_label = node_temp['label']\n",
    "                            node_name = node['name']\n",
    "                            if 'range' not in list(edge.keys()):\n",
    "                                s = f\"{edge['name']}.\\\"{node_temp['label']}({pos})\\\" = {node['name']}.ID\"\n",
    "                                if self.where_clause == ' ':\n",
    "                                    self.where_clause += f'WHERE {s}' \n",
    "                                else:\n",
    "                                    self.where_clause = self.where_clause + ' AND ' + s\n",
    "        return {'name':node_name,'label': node_label}\n",
    "    \n",
    "    def conditionAdder(self):\n",
    "        for i in range(len(self.edges)):\n",
    "            edge = self.edges[i]\n",
    "            if edge:\n",
    "                edge_keys = list(edge.keys())\n",
    "                if 'label' in edge_keys:\n",
    "                    index = edge['index']\n",
    "                    direction = edge['direction']\n",
    "                    if direction == '>':\n",
    "                        node_s = self.nodes[index-1]\n",
    "                        node_t = self.nodes[index]\n",
    "                    else:\n",
    "                        node_t = self.nodes[index-1]\n",
    "                        node_s = self.nodes[index]\n",
    "                    from_node = self.nodeJudger(edge,node_s,'s')\n",
    "                    to_node = self.nodeJudger(edge,node_t,'t')\n",
    "                    self.edges[i]['start'] = from_node\n",
    "                    self.edges[i]['end'] = to_node\n",
    "                    \n",
    "    def fromAdder(self):\n",
    "        for table in self.tables:\n",
    "            temp = table.split(\" \")\n",
    "            temp[0] = f\"\\\"{temp[0]}\\\"\"\n",
    "            if self.from_clause == 'FROM ':\n",
    "                self.from_clause += f\"{temp[0]} {temp[1]}\"\n",
    "            else:\n",
    "                self.from_clause = self.from_clause + \", \" + f\"{temp[0]} {temp[1]}\"\n",
    "        tables = self.from_clause.split(\",\")\n",
    "                \n",
    "    def notRecursive(self):\n",
    "        self.fromAdder()\n",
    "        self.conditionAdder()\n",
    "        self.non_recursion = f\"{self.select} {self.from_clause} {self.where_clause}\"\n",
    "        self.sql = f'{self.non_recursion}'+ self.rt + \";\"\n",
    "        \n",
    "    def selectAdder(self):\n",
    "        for edge in self.edges:\n",
    "            if edge:\n",
    "                if 'range' in list(edge.keys()):\n",
    "                    self.recursiveEdge.append(edge)\n",
    "                    if '..' in edge['range']:\n",
    "                        temp = edge['range'].split('..')\n",
    "                        if not temp[0]:\n",
    "                            temp[0] = str(0)\n",
    "                        self.rangeList = temp\n",
    "                    else:\n",
    "                        self.rangeList = edge['range']\n",
    "                    edge_name = edge['name']\n",
    "                    node_s = edge['start']\n",
    "                    node_t = edge['end']\n",
    "                    self.recursive_select = f\"{self.recursive_select} {edge_name}.\\\"{node_s['label']}(s)\\\" AS start, {edge_name}.\\\"{node_t['label']}(t)\\\" AS \\\"end\\\", ARRAY[{edge_name}.\\\"{node_s['label']}(s)\\\",{edge_name}.\\\"{node_t['label']}(t)\\\"] AS path, 0 AS depth\"\n",
    "                    if 'properties' in list(edge.keys()):\n",
    "                        for p in edge['properties']:\n",
    "                            if self.recursive_where == '':\n",
    "                                self.recursive_where = f\"WHERE {edge_name}.{p['key']} = {p['value']}\"\n",
    "                            else:\n",
    "                                self.recursive_where = f\"{self.recursive_where} AND {edge_name}.{p['key']} = {p['value']}\"\n",
    "                    self.recursion = f\"SELECT {edge_name}.\\\"{node_s['label']}(s)\\\", temp_query.\\\"end\\\", ARRAY[temp_query.\\\"end\\\",{edge_name}.\\\"{node_s['label']}(s)\\\"], temp_query.depth + 1 FROM \\\"{edge['label']}\\\" {edge_name}, recursive_query temp_query WHERE temp_query.end = {edge_name}.\\\"{node_s['label']}(s)\\\"\"\n",
    "                    if len(self.rangeList)>1:\n",
    "                        if self.rangeList[1]:\n",
    "                            self.recursion = f\"{self.recursion} AND temp_query.depth < {self.rangeList[1]}\"\n",
    "                    elif self.rangeList:\n",
    "                        self.recursion = f\"{self.recursion} AND temp_query.depth < {self.rangeList[0]}\"\n",
    "                        \n",
    "                    \n",
    "    def recursiveFromAdjustor(self):\n",
    "        \n",
    "        tables = self.from_clause.split(\",\")\n",
    "\n",
    "        for table in tables:\n",
    "            for edge in self.recursiveEdge:\n",
    "                if f\"\\\"{edge['label']}\\\" {edge['name']}\" in table:\n",
    "                    tables.remove(table)\n",
    "            \n",
    "    def recursiveWhereAdjustor(self):\n",
    "        conditions =  self.where_clause.split(\"AND\")\n",
    "        self.where_clause = ''\n",
    "        for condition in conditions:\n",
    "            for edge in self.recursiveEdge:\n",
    "                len_name = len(edge['name'])\n",
    "                if f\" {edge['name']}.\" == condition[:len_name+2]:\n",
    "                    if self.recursive_where == '':\n",
    "                        self.recursive_where = f\"WHERE{condition}\"\n",
    "                    else:\n",
    "                        self.recursive_where = f\"{self.recursive_where} AND{condition}\"\n",
    "                    conditions.remove(condition)\n",
    "        for condition in conditions:\n",
    "            if 'WHERE' in condition:\n",
    "                self.where_clause = condition\n",
    "            else:\n",
    "                self.where_clause = f\"{self.where_clause}AND{condition}\"\n",
    "        if 'WHERE' not in self.where_clause:\n",
    "            self.where_clause = 'WHERE' + self.where_clause\n",
    "        node_s_name = self.recursiveEdge[0]['start']['name']\n",
    "        node_t_name = self.recursiveEdge[0]['end']['name']\n",
    "        s = f\"{node_s_name}.ID = temp_query.\\\"start\\\" AND {node_t_name}.ID = temp_query.\\\"end\\\"\"\n",
    "        depth_judger = ''\n",
    "        if len(self.rangeList)>1:\n",
    "            if self.rangeList[0]:\n",
    "                depth_judger = f\" AND temp_query.depth >= {self.rangeList[0]}\"\n",
    "            if self.rangeList[1]:\n",
    "                depth_judger = f\"{depth_judger} AND temp_query.depth <= {self.rangeList[1]}\"\n",
    "        elif self.rangeList:\n",
    "            depth_judger = f\" AND temp_query.depth = {self.rangeList[0]}\"\n",
    "        s += depth_judger\n",
    "        if self.where_clause == '':\n",
    "            self.where_clause = f\"WHERE {s}\"\n",
    "        else:\n",
    "            self.where_clause = f\"{self.where_clause} AND {s}\"\n",
    "    def recursiveConstructor(self):\n",
    "        self.conditionAdder()\n",
    "        self.fromAdder()\n",
    "        self.selectAdder()\n",
    "        self.recursiveFromAdjustor()\n",
    "        self.recursiveWhereAdjustor()\n",
    "        self.non_recursion = f\"{self.recursive_select} FROM \\\"{self.recursiveEdge[0]['label']}\\\" {self.recursiveEdge[0]['name']} {self.recursive_where}\"\n",
    "        self.rt = f\"{self.select}{self.from_clause}, recursive_query temp_query{self.where_clause}{self.rt}\"\n",
    "        self.sql = f\"{self.sql}({self.non_recursion} UNION ALL {self.recursion}) {self.rt};\"\n",
    "        \n",
    "    def getSql(self):\n",
    "        if not self.isRecursive:\n",
    "            self.notRecursive()\n",
    "        else:\n",
    "            self.recursiveConstructor()\n",
    "        print(self.nodes)\n",
    "        print(self.edges)\n",
    "        return print(self.sql.strip())"
   ]
  },
  {
   "cell_type": "code",
   "execution_count": 20,
   "metadata": {},
   "outputs": [
    {
     "name": "stdout",
     "output_type": "stream",
     "text": [
      "[{'name': 'n', 'label': 'Label1'}, {'name': 'n', 'label': 'Label2'}]\n",
      "[]\n",
      "SELECT n.name AS name  FROM \"Label1\" n, \"Label2\" n   ;\n"
     ]
    }
   ],
   "source": [
    "visitor = CypherToSqlVisitor()\n",
    "visitor.visit(tree)  # Traverse the parse tree\n",
    "visitor.getSql()"
   ]
  },
  {
   "cell_type": "code",
   "execution_count": 21,
   "metadata": {},
   "outputs": [
    {
     "name": "stdout",
     "output_type": "stream",
     "text": [
      "(oC_Cypher (oC_Statement (oC_Query (oC_RegularQuery (oC_SingleQuery (oC_SinglePartQuery (oC_ReadingClause (oC_Match MATCH   (oC_Pattern (oC_PatternPart (oC_AnonymousPatternPart (oC_PatternElement (oC_NodePattern ( (oC_Variable (oC_SymbolicName n)) (oC_NodeLabels (oC_NodeLabel : (oC_LabelName (oC_SchemaName (oC_SymbolicName Label1))))) ))))))))   (oC_Return RETURN (oC_ProjectionBody   (oC_ProjectionItems (oC_ProjectionItem (oC_Expression (oC_OrExpression (oC_XorExpression (oC_AndExpression (oC_NotExpression (oC_ComparisonExpression (oC_StringListNullPredicateExpression (oC_AddOrSubtractExpression (oC_MultiplyDivideModuloExpression (oC_PowerOfExpression (oC_UnaryAddOrSubtractExpression (oC_NonArithmeticOperatorExpression (oC_Atom (oC_Variable (oC_SymbolicName n))) (oC_PropertyLookup . (oC_PropertyKeyName (oC_SchemaName (oC_SymbolicName name))))))))))))))))   AS   (oC_Variable (oC_SymbolicName name))))))))   (oC_Union UNION   ALL   (oC_SingleQuery (oC_SinglePartQuery (oC_ReadingClause (oC_Match MATCH   (oC_Pattern (oC_PatternPart (oC_AnonymousPatternPart (oC_PatternElement (oC_NodePattern ( (oC_Variable (oC_SymbolicName n)) (oC_NodeLabels (oC_NodeLabel : (oC_LabelName (oC_SchemaName (oC_SymbolicName Label2))))) ))))))))   (oC_Return RETURN (oC_ProjectionBody   (oC_ProjectionItems (oC_ProjectionItem (oC_Expression (oC_OrExpression (oC_XorExpression (oC_AndExpression (oC_NotExpression (oC_ComparisonExpression (oC_StringListNullPredicateExpression (oC_AddOrSubtractExpression (oC_MultiplyDivideModuloExpression (oC_PowerOfExpression (oC_UnaryAddOrSubtractExpression (oC_NonArithmeticOperatorExpression (oC_Atom (oC_Variable (oC_SymbolicName n))) (oC_PropertyLookup . (oC_PropertyKeyName (oC_SchemaName (oC_SymbolicName name))))))))))))))))   AS   (oC_Variable (oC_SymbolicName name)))))))))))) <EOF>)\n"
     ]
    }
   ],
   "source": [
    "print(tree.toStringTree(recog=parser))"
   ]
  },
  {
   "cell_type": "code",
   "execution_count": 1,
   "metadata": {},
   "outputs": [],
   "source": [
    "from Cypher2sqlTranslator import *"
   ]
  },
  {
   "cell_type": "code",
   "execution_count": 3,
   "metadata": {},
   "outputs": [
    {
     "name": "stdout",
     "output_type": "stream",
     "text": [
      "SELECT n.name AS name  FROM \"Label1\" n   ;\n"
     ]
    }
   ],
   "source": [
    "query = \"MATCH (n:Label1) RETURN n.name AS name UNION ALL MATCH (n:Label2) RETURN n.name AS name\"\n",
    "translator(query)"
   ]
  },
  {
   "cell_type": "code",
   "execution_count": 47,
   "metadata": {},
   "outputs": [],
   "source": [
    "def visitOC_Match(ctx: CypherParser.OC_PatternContext):\n",
    "        print(ctx.oC_PatternPart().toStringTree(recog=parser))"
   ]
  },
  {
   "cell_type": "code",
   "execution_count": 24,
   "metadata": {},
   "outputs": [],
   "source": [
    "a = tree.oC_Statement().oC_Query().oC_RegularQuery().oC_SingleQuery().oC_SinglePartQuery().oC_ReadingClause()[0]"
   ]
  },
  {
   "cell_type": "code",
   "execution_count": 18,
   "metadata": {},
   "outputs": [
    {
     "data": {
      "text/plain": [
       "'a.owner, b.owner'"
      ]
     },
     "execution_count": 18,
     "metadata": {},
     "output_type": "execute_result"
    }
   ],
   "source": [
    "tree.oC_Statement().oC_Query().oC_RegularQuery().oC_SingleQuery().oC_SinglePartQuery().oC_Return().oC_ProjectionBody().oC_ProjectionItems().getText()"
   ]
  },
  {
   "cell_type": "code",
   "execution_count": 27,
   "metadata": {},
   "outputs": [],
   "source": [
    "b = a.oC_Match().oC_Pattern().oC_PatternPart()[0].oC_AnonymousPatternPart().oC_PatternElement().oC_PatternElementChain()[0].oC_RelationshipPattern()"
   ]
  },
  {
   "cell_type": "code",
   "execution_count": 26,
   "metadata": {},
   "outputs": [],
   "source": [
    "c = a.oC_Match().oC_Pattern().oC_PatternPart()[0].oC_AnonymousPatternPart().oC_PatternElement()."
   ]
  },
  {
   "cell_type": "code",
   "execution_count": 49,
   "metadata": {},
   "outputs": [
    {
     "data": {
      "text/plain": [
       "\"WHERE y.isBlocked='yes' AND g.name='Ankh−Morpork'\""
      ]
     },
     "execution_count": 49,
     "metadata": {},
     "output_type": "execute_result"
    }
   ],
   "source": [
    "a.oC_Match().oC_Where().getText()"
   ]
  },
  {
   "cell_type": "code",
   "execution_count": 99,
   "metadata": {},
   "outputs": [
    {
     "data": {
      "text/plain": [
       "False"
      ]
     },
     "execution_count": 99,
     "metadata": {},
     "output_type": "execute_result"
    }
   ],
   "source": [
    "'<' in b.getText()"
   ]
  },
  {
   "cell_type": "code",
   "execution_count": 9,
   "metadata": {},
   "outputs": [
    {
     "data": {
      "text/plain": [
       "\"(a:Account {isBlocked:'no'}) −[:isLocatedIn]−>(g:City {name:'Ankh−Morpork'}) <−[:isLocatedIn]−(b:Account {isBlocked:'yes'})\""
      ]
     },
     "execution_count": 9,
     "metadata": {},
     "output_type": "execute_result"
    }
   ],
   "source": [
    "c[0].getText()"
   ]
  },
  {
   "cell_type": "code",
   "execution_count": 19,
   "metadata": {},
   "outputs": [],
   "source": [
    "d = tree.oC_Statement().oC_Query().oC_RegularQuery().oC_SingleQuery().oC_SinglePartQuery().oC_Return().oC_ProjectionBody()"
   ]
  },
  {
   "cell_type": "code",
   "execution_count": 21,
   "metadata": {},
   "outputs": [
    {
     "data": {
      "text/plain": [
       "'LIMIT 10'"
      ]
     },
     "execution_count": 21,
     "metadata": {},
     "output_type": "execute_result"
    }
   ],
   "source": [
    "d.oC_Limit().getText()"
   ]
  },
  {
   "cell_type": "code",
   "execution_count": 9,
   "metadata": {},
   "outputs": [],
   "source": [
    "c[0].oC_AnonymousPatternPart().oC_PatternElement().oC_NodePattern().oC_NodeLabels()"
   ]
  },
  {
   "cell_type": "code",
   "execution_count": 92,
   "metadata": {},
   "outputs": [
    {
     "data": {
      "text/plain": [
       "\"(x:Account{isBlocked:'no'})−[:isLocatedIn]−>(g:City)<−[:isLocatedIn]−(y:Account)\""
      ]
     },
     "execution_count": 92,
     "metadata": {},
     "output_type": "execute_result"
    }
   ],
   "source": [
    "c[0].getText()"
   ]
  },
  {
   "cell_type": "code",
   "execution_count": 148,
   "metadata": {},
   "outputs": [
    {
     "data": {
      "text/plain": [
       "'isL'"
      ]
     },
     "execution_count": 148,
     "metadata": {},
     "output_type": "execute_result"
    }
   ],
   "source": [
    "b[0].getText()[:3]"
   ]
  },
  {
   "cell_type": "code",
   "execution_count": 46,
   "metadata": {},
   "outputs": [],
   "source": [
    "a = 'PsL'"
   ]
  },
  {
   "cell_type": "code",
   "execution_count": 47,
   "metadata": {},
   "outputs": [
    {
     "data": {
      "text/plain": [
       "'psl'"
      ]
     },
     "execution_count": 47,
     "metadata": {},
     "output_type": "execute_result"
    }
   ],
   "source": []
  },
  {
   "cell_type": "code",
   "execution_count": 55,
   "metadata": {},
   "outputs": [],
   "source": [
    "t = [{'name': 'x', 'label': 'Account'}, {'name': 'g', 'label': 'City'}, {'name': 'y', 'label': 'Account'}, {'name': 'x'}, {'name': 'y'}]"
   ]
  },
  {
   "cell_type": "code",
   "execution_count": 107,
   "metadata": {},
   "outputs": [],
   "source": [
    "a = {}\n",
    "if a:\n",
    "    print(1)"
   ]
  },
  {
   "cell_type": "code",
   "execution_count": 112,
   "metadata": {},
   "outputs": [
    {
     "data": {
      "text/plain": [
       "False"
      ]
     },
     "execution_count": 112,
     "metadata": {},
     "output_type": "execute_result"
    }
   ],
   "source": [
    "'label' in list(t[3].keys())"
   ]
  },
  {
   "cell_type": "code",
   "execution_count": 55,
   "metadata": {},
   "outputs": [],
   "source": [
    "a = [1,2,3,4]"
   ]
  },
  {
   "cell_type": "code",
   "execution_count": 56,
   "metadata": {},
   "outputs": [
    {
     "data": {
      "text/plain": [
       "4"
      ]
     },
     "execution_count": 56,
     "metadata": {},
     "output_type": "execute_result"
    }
   ],
   "source": [
    "a[-1]"
   ]
  },
  {
   "cell_type": "code",
   "execution_count": 97,
   "metadata": {},
   "outputs": [],
   "source": [
    "x='..4'.split('..')"
   ]
  },
  {
   "cell_type": "code",
   "execution_count": 99,
   "metadata": {},
   "outputs": [],
   "source": [
    "if x[0]:\n",
    "    print(1)"
   ]
  },
  {
   "cell_type": "code",
   "execution_count": 100,
   "metadata": {},
   "outputs": [
    {
     "data": {
      "text/plain": [
       "['', '4']"
      ]
     },
     "execution_count": 100,
     "metadata": {},
     "output_type": "execute_result"
    }
   ],
   "source": [
    "x"
   ]
  },
  {
   "cell_type": "code",
   "execution_count": 199,
   "metadata": {},
   "outputs": [],
   "source": [
    "a = \"sasd asd\""
   ]
  },
  {
   "cell_type": "code",
   "execution_count": 34,
   "metadata": {},
   "outputs": [],
   "source": [
    "s = \"AND u . name = 'Uni Leipzig' AND s . classYear > 2014 AND s.Person(s) = p1.ID AND s.University(t) = u.ID AND studyat3.Person(s) = p2.ID AND studyat3.University(t) = u.ID\""
   ]
  },
  {
   "cell_type": "code",
   "execution_count": 36,
   "metadata": {},
   "outputs": [
    {
     "data": {
      "text/plain": [
       "\" u . name = 'Uni Leipzig' AND s . classYear > 2014 AND s.Person(s) = p1.ID AND s.University(t) = u.ID AND studyat3.Person(s) = p2.ID AND studyat3.University(t) = u.ID\""
      ]
     },
     "execution_count": 36,
     "metadata": {},
     "output_type": "execute_result"
    }
   ],
   "source": [
    "s[3:]"
   ]
  },
  {
   "cell_type": "code",
   "execution_count": 111,
   "metadata": {},
   "outputs": [
    {
     "data": {
      "text/plain": [
       "'asdsaa \\'a\\' \"b\"'"
      ]
     },
     "execution_count": 111,
     "metadata": {},
     "output_type": "execute_result"
    }
   ],
   "source": [
    "'''asdsaa 'a' \"b\"'''"
   ]
  },
  {
   "cell_type": "code",
   "execution_count": 142,
   "metadata": {},
   "outputs": [
    {
     "data": {
      "text/plain": [
       "' e'"
      ]
     },
     "execution_count": 142,
     "metadata": {},
     "output_type": "execute_result"
    }
   ],
   "source": [
    "x = ' e.adas'\n",
    "y = 'e'\n",
    "x[:2]"
   ]
  },
  {
   "cell_type": "code",
   "execution_count": null,
   "metadata": {},
   "outputs": [],
   "source": []
  }
 ],
 "metadata": {
  "kernelspec": {
   "display_name": "Python 3",
   "language": "python",
   "name": "python3"
  },
  "language_info": {
   "codemirror_mode": {
    "name": "ipython",
    "version": 3
   },
   "file_extension": ".py",
   "mimetype": "text/x-python",
   "name": "python",
   "nbconvert_exporter": "python",
   "pygments_lexer": "ipython3",
   "version": "3.8.3"
  }
 },
 "nbformat": 4,
 "nbformat_minor": 4
}
