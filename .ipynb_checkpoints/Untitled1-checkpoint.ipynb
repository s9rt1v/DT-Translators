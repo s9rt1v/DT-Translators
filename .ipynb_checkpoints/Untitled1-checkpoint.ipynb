{
 "cells": [
  {
   "cell_type": "code",
   "execution_count": 1,
   "metadata": {},
   "outputs": [],
   "source": [
    "import numpy as np\n",
    "import glob\n",
    "import os, os.path\n",
    "import math\n",
    "import pandas as pd\n",
    "import psycopg2"
   ]
  },
  {
   "cell_type": "code",
   "execution_count": 3,
   "metadata": {},
   "outputs": [],
   "source": [
    "df = pd.read_csv('amazon_metadata.csv')"
   ]
  },
  {
   "cell_type": "code",
   "execution_count": 12,
   "metadata": {},
   "outputs": [
    {
     "data": {
      "text/plain": [
       "True"
      ]
     },
     "execution_count": 12,
     "metadata": {},
     "output_type": "execute_result"
    }
   ],
   "source": [
    "pd.isna(df.iloc[0]['group'])"
   ]
  },
  {
   "cell_type": "code",
   "execution_count": 59,
   "metadata": {},
   "outputs": [],
   "source": [
    "def psqlConnect(dbname, user, pwd, host, port):\n",
    "    conn = None\n",
    "    try:\n",
    "        conn = psycopg2.connect(\n",
    "            dbname=dbname,\n",
    "            user=user,\n",
    "            password=pwd,\n",
    "            host=host,\n",
    "            port=port\n",
    "        )\n",
    "        print(\"Successfully connected to the database.\")\n",
    "    except psycopg2.Error as e:\n",
    "        print(f\"An error occurred while connecting to the database: {e}\")\n",
    "    return conn\n",
    "\n",
    "def load_age():\n",
    "    try:\n",
    "        cur.execute(\"LOAD 'age';\")\n",
    "    except psycopg2.Error as e:\n",
    "        print(f\"An error occurred: {e}\")\n",
    "        conn.rollback()\n",
    "    \n",
    "    try:\n",
    "        cur.execute(\"SET search_path TO ag_catalog;\")\n",
    "    except psycopg2.Error as e:\n",
    "        print(f\"An error occurred: {e}\")\n",
    "        conn.rollback()\n",
    "        \n",
    "def execute(query):\n",
    "    try:\n",
    "        cur.execute(query)\n",
    "        conn.commit()\n",
    "        rows = cur.fetchall()\n",
    "        for row in rows:\n",
    "            print(row)\n",
    "    except psycopg2.Error as e:\n",
    "        print(f\"An error occurred: {e}\")\n",
    "        conn.rollback()"
   ]
  },
  {
   "cell_type": "code",
   "execution_count": 22,
   "metadata": {},
   "outputs": [
    {
     "name": "stdout",
     "output_type": "stream",
     "text": [
      "Successfully connected to the database.\n"
     ]
    }
   ],
   "source": [
    "dbname = \"demo\" \n",
    "user = \"s9rt1v\" \n",
    "pwd = \"1234\" \n",
    "host = \"localhost\" \n",
    "port = \"5430\"\n",
    "conn = psqlConnect(dbname, user, pwd, host, port)\n",
    "cur = conn.cursor()\n",
    "load_age()"
   ]
  },
  {
   "cell_type": "code",
   "execution_count": 30,
   "metadata": {},
   "outputs": [],
   "source": []
  },
  {
   "cell_type": "code",
   "execution_count": null,
   "metadata": {},
   "outputs": [],
   "source": [
    "#create edges:BELONGS_TO for node item and group\n",
    "for i in range(12335,df.shape[0]):\n",
    "    if not pd.isna(df.iloc[i]['group']):\n",
    "        group = df.iloc[i]['group']\n",
    "        asin = df.iloc[i]['asin']\n",
    "        query = f\"SELECT * FROM cypher ('amazon_metadata_test', $$ MATCH (source:Item {{ asin: '{asin}' }}), (target:Group {{ name: '{group}' }}) CREATE (source)-[:BELONGS_TO]->(target) $$) as (a agtype);\"\n",
    "        execute(query)\n"
   ]
  },
  {
   "cell_type": "code",
   "execution_count": 68,
   "metadata": {},
   "outputs": [
    {
     "ename": "KeyboardInterrupt",
     "evalue": "",
     "output_type": "error",
     "traceback": [
      "\u001b[0;31m---------------------------------------------------------------------------\u001b[0m",
      "\u001b[0;31mKeyboardInterrupt\u001b[0m                         Traceback (most recent call last)",
      "\u001b[0;32m<ipython-input-68-07457954f8c2>\u001b[0m in \u001b[0;36m<module>\u001b[0;34m\u001b[0m\n\u001b[1;32m      6\u001b[0m         \u001b[0;32mfor\u001b[0m \u001b[0msim_asin\u001b[0m \u001b[0;32min\u001b[0m \u001b[0msim_asins\u001b[0m\u001b[0;34m:\u001b[0m\u001b[0;34m\u001b[0m\u001b[0;34m\u001b[0m\u001b[0m\n\u001b[1;32m      7\u001b[0m             \u001b[0mquery\u001b[0m \u001b[0;34m=\u001b[0m \u001b[0;34mf\"SELECT * FROM cypher ('amazon_metadata_test', $$ MATCH (source:Item {{ asin: '{asin}' }}), (target:Item {{ asin: '{sim_asin}' }}) CREATE (source)-[:SIMILAR_TO]->(target) $$) as (a agtype);\"\u001b[0m\u001b[0;34m\u001b[0m\u001b[0;34m\u001b[0m\u001b[0m\n\u001b[0;32m----> 8\u001b[0;31m             \u001b[0mexecute\u001b[0m\u001b[0;34m(\u001b[0m\u001b[0mquery\u001b[0m\u001b[0;34m)\u001b[0m\u001b[0;34m\u001b[0m\u001b[0;34m\u001b[0m\u001b[0m\n\u001b[0m",
      "\u001b[0;32m<ipython-input-59-f7d9fae0965e>\u001b[0m in \u001b[0;36mexecute\u001b[0;34m(query)\u001b[0m\n\u001b[1;32m     29\u001b[0m \u001b[0;32mdef\u001b[0m \u001b[0mexecute\u001b[0m\u001b[0;34m(\u001b[0m\u001b[0mquery\u001b[0m\u001b[0;34m)\u001b[0m\u001b[0;34m:\u001b[0m\u001b[0;34m\u001b[0m\u001b[0;34m\u001b[0m\u001b[0m\n\u001b[1;32m     30\u001b[0m     \u001b[0;32mtry\u001b[0m\u001b[0;34m:\u001b[0m\u001b[0;34m\u001b[0m\u001b[0;34m\u001b[0m\u001b[0m\n\u001b[0;32m---> 31\u001b[0;31m         \u001b[0mcur\u001b[0m\u001b[0;34m.\u001b[0m\u001b[0mexecute\u001b[0m\u001b[0;34m(\u001b[0m\u001b[0mquery\u001b[0m\u001b[0;34m)\u001b[0m\u001b[0;34m\u001b[0m\u001b[0;34m\u001b[0m\u001b[0m\n\u001b[0m\u001b[1;32m     32\u001b[0m         \u001b[0mconn\u001b[0m\u001b[0;34m.\u001b[0m\u001b[0mcommit\u001b[0m\u001b[0;34m(\u001b[0m\u001b[0;34m)\u001b[0m\u001b[0;34m\u001b[0m\u001b[0;34m\u001b[0m\u001b[0m\n\u001b[1;32m     33\u001b[0m         \u001b[0mrows\u001b[0m \u001b[0;34m=\u001b[0m \u001b[0mcur\u001b[0m\u001b[0;34m.\u001b[0m\u001b[0mfetchall\u001b[0m\u001b[0;34m(\u001b[0m\u001b[0;34m)\u001b[0m\u001b[0;34m\u001b[0m\u001b[0;34m\u001b[0m\u001b[0m\n",
      "\u001b[0;32m~/opt/anaconda3/lib/python3.8/encodings/utf_8.py\u001b[0m in \u001b[0;36mdecode\u001b[0;34m(input, errors)\u001b[0m\n\u001b[1;32m     13\u001b[0m \u001b[0mencode\u001b[0m \u001b[0;34m=\u001b[0m \u001b[0mcodecs\u001b[0m\u001b[0;34m.\u001b[0m\u001b[0mutf_8_encode\u001b[0m\u001b[0;34m\u001b[0m\u001b[0;34m\u001b[0m\u001b[0m\n\u001b[1;32m     14\u001b[0m \u001b[0;34m\u001b[0m\u001b[0m\n\u001b[0;32m---> 15\u001b[0;31m \u001b[0;32mdef\u001b[0m \u001b[0mdecode\u001b[0m\u001b[0;34m(\u001b[0m\u001b[0minput\u001b[0m\u001b[0;34m,\u001b[0m \u001b[0merrors\u001b[0m\u001b[0;34m=\u001b[0m\u001b[0;34m'strict'\u001b[0m\u001b[0;34m)\u001b[0m\u001b[0;34m:\u001b[0m\u001b[0;34m\u001b[0m\u001b[0;34m\u001b[0m\u001b[0m\n\u001b[0m\u001b[1;32m     16\u001b[0m     \u001b[0;32mreturn\u001b[0m \u001b[0mcodecs\u001b[0m\u001b[0;34m.\u001b[0m\u001b[0mutf_8_decode\u001b[0m\u001b[0;34m(\u001b[0m\u001b[0minput\u001b[0m\u001b[0;34m,\u001b[0m \u001b[0merrors\u001b[0m\u001b[0;34m,\u001b[0m \u001b[0;32mTrue\u001b[0m\u001b[0;34m)\u001b[0m\u001b[0;34m\u001b[0m\u001b[0;34m\u001b[0m\u001b[0m\n\u001b[1;32m     17\u001b[0m \u001b[0;34m\u001b[0m\u001b[0m\n",
      "\u001b[0;31mKeyboardInterrupt\u001b[0m: "
     ]
    }
   ],
   "source": [
    "#create edges:SIMILAR_TO for node item and item\n",
    "for i in range(df.shape[0]):\n",
    "    if not pd.isna(df.iloc[i]['similar']):\n",
    "        sim_asins =  df.iloc[i]['similar'].split(', ')\n",
    "        asin = df.iloc[i]['asin']\n",
    "        for sim_asin in sim_asins:\n",
    "            query = f\"SELECT * FROM cypher ('amazon_metadata_test', $$ MATCH (source:Item {{ asin: '{asin}' }}), (target:Item {{ asin: '{sim_asin}' }}) CREATE (source)-[:SIMILAR_TO]->(target) $$) as (a agtype);\"\n",
    "            execute(query)"
   ]
  },
  {
   "cell_type": "code",
   "execution_count": 38,
   "metadata": {},
   "outputs": [
    {
     "data": {
      "text/plain": [
       "548552"
      ]
     },
     "execution_count": 38,
     "metadata": {},
     "output_type": "execute_result"
    }
   ],
   "source": [
    "df.shape[0]"
   ]
  },
  {
   "cell_type": "code",
   "execution_count": 43,
   "metadata": {},
   "outputs": [
    {
     "name": "stdout",
     "output_type": "stream",
     "text": [
      "a 123\n"
     ]
    }
   ],
   "source": [
    "x = \"a {}\".format(\"123\")\n",
    "print(x)"
   ]
  },
  {
   "cell_type": "code",
   "execution_count": 48,
   "metadata": {},
   "outputs": [
    {
     "data": {
      "text/plain": [
       "str"
      ]
     },
     "execution_count": 48,
     "metadata": {},
     "output_type": "execute_result"
    }
   ],
   "source": [
    "type(df.iloc[0]['asin'])"
   ]
  },
  {
   "cell_type": "code",
   "execution_count": 66,
   "metadata": {},
   "outputs": [
    {
     "name": "stdout",
     "output_type": "stream",
     "text": [
      "('12223',)\n"
     ]
    }
   ],
   "source": [
    "query = (\"SELECT * FROM cypher ('amazon_metadata_test', $$ MATCH ()-[r:BELONGS_TO]->() RETURN count(r) $$) as (count agtype);\")\n",
    "execute(query)"
   ]
  },
  {
   "cell_type": "code",
   "execution_count": 67,
   "metadata": {},
   "outputs": [
    {
     "name": "stdout",
     "output_type": "stream",
     "text": [
      "('{\"id\": 2533274792178584, \"label\": \"Item\", \"properties\": {\"asin\": \"B00005TPL2\", \"title\": \"Dinner with Friends\", \"salesrank\": 13293, \"avg_rating\": 4.5, \"total_reviews\": 12, \"downloaded_reviews\": 12}}::vertex', '{\"id\": 13229323905587226, \"label\": \"BELONGS_TO\", \"end_id\": 3377699720527875, \"start_id\": 2533274792178584, \"properties\": {}}::edge', '{\"id\": 3377699720527875, \"label\": \"Group\", \"properties\": {\"name\": \"DVD\"}}::vertex')\n",
      "('{\"id\": 2533274792178583, \"label\": \"Item\", \"properties\": {\"asin\": \"B00005TPL1\", \"title\": \"Tunnelvision\", \"salesrank\": 30927, \"avg_rating\": 2.5, \"total_reviews\": 10, \"downloaded_reviews\": 10}}::vertex', '{\"id\": 13229323905587225, \"label\": \"BELONGS_TO\", \"end_id\": 3377699720527875, \"start_id\": 2533274792178583, \"properties\": {}}::edge', '{\"id\": 3377699720527875, \"label\": \"Group\", \"properties\": {\"name\": \"DVD\"}}::vertex')\n",
      "('{\"id\": 2533274792178582, \"label\": \"Item\", \"properties\": {\"asin\": \"451452313\", \"title\": \"Better Than Life (Red Dwarf Series)\", \"salesrank\": 366980, \"avg_rating\": 0, \"total_reviews\": 0, \"downloaded_reviews\": 0}}::vertex', '{\"id\": 13229323905587224, \"label\": \"BELONGS_TO\", \"end_id\": 3377699720527873, \"start_id\": 2533274792178582, \"properties\": {}}::edge', '{\"id\": 3377699720527873, \"label\": \"Group\", \"properties\": {\"name\": \"Book\"}}::vertex')\n",
      "('{\"id\": 2533274792178581, \"label\": \"Item\", \"properties\": {\"asin\": \"500201986\", \"title\": \"Greek Sculpture: The Classical Period, a Handbook (World of Art)\", \"salesrank\": 420360, \"avg_rating\": 0, \"total_reviews\": 0, \"downloaded_reviews\": 0}}::vertex', '{\"id\": 13229323905587223, \"label\": \"BELONGS_TO\", \"end_id\": 3377699720527873, \"start_id\": 2533274792178581, \"properties\": {}}::edge', '{\"id\": 3377699720527873, \"label\": \"Group\", \"properties\": {\"name\": \"Book\"}}::vertex')\n",
      "('{\"id\": 2533274792178580, \"label\": \"Item\", \"properties\": {\"asin\": \"1585710539\", \"title\": \"Reckless Surrender (Indigo: Sensuous Love Stories)\", \"salesrank\": 442585, \"avg_rating\": 4.5, \"total_reviews\": 5, \"downloaded_reviews\": 5}}::vertex', '{\"id\": 13229323905587222, \"label\": \"BELONGS_TO\", \"end_id\": 3377699720527873, \"start_id\": 2533274792178580, \"properties\": {}}::edge', '{\"id\": 3377699720527873, \"label\": \"Group\", \"properties\": {\"name\": \"Book\"}}::vertex')\n",
      "('{\"id\": 2533274792178579, \"label\": \"Item\", \"properties\": {\"asin\": \"892591579\", \"title\": \"Reading the Muslim Mind\", \"salesrank\": 752694, \"avg_rating\": 0, \"total_reviews\": 0, \"downloaded_reviews\": 0}}::vertex', '{\"id\": 13229323905587221, \"label\": \"BELONGS_TO\", \"end_id\": 3377699720527873, \"start_id\": 2533274792178579, \"properties\": {}}::edge', '{\"id\": 3377699720527873, \"label\": \"Group\", \"properties\": {\"name\": \"Book\"}}::vertex')\n",
      "('{\"id\": 2533274792178578, \"label\": \"Item\", \"properties\": {\"asin\": \"786711647\", \"title\": \"A Kiss Before Dying\", \"salesrank\": 323500, \"avg_rating\": 4.5, \"total_reviews\": 17, \"downloaded_reviews\": 17}}::vertex', '{\"id\": 13229323905587220, \"label\": \"BELONGS_TO\", \"end_id\": 3377699720527873, \"start_id\": 2533274792178578, \"properties\": {}}::edge', '{\"id\": 3377699720527873, \"label\": \"Group\", \"properties\": {\"name\": \"Book\"}}::vertex')\n",
      "('{\"id\": 2533274792178577, \"label\": \"Item\", \"properties\": {\"asin\": \"6302843529\", \"title\": \"Line Dancing the Country Way, Vol. 1\", \"salesrank\": 17882, \"avg_rating\": 5, \"total_reviews\": 2, \"downloaded_reviews\": 2}}::vertex', '{\"id\": 13229323905587219, \"label\": \"BELONGS_TO\", \"end_id\": 3377699720527876, \"start_id\": 2533274792178577, \"properties\": {}}::edge', '{\"id\": 3377699720527876, \"label\": \"Group\", \"properties\": {\"name\": \"Video\"}}::vertex')\n",
      "('{\"id\": 2533274792178576, \"label\": \"Item\", \"properties\": {\"asin\": \"1551803453\", \"title\": \"Start and Run a Catering Business (Start & Run a)\", \"salesrank\": 141679, \"avg_rating\": 0, \"total_reviews\": 0, \"downloaded_reviews\": 0}}::vertex', '{\"id\": 13229323905587218, \"label\": \"BELONGS_TO\", \"end_id\": 3377699720527873, \"start_id\": 2533274792178576, \"properties\": {}}::edge', '{\"id\": 3377699720527873, \"label\": \"Group\", \"properties\": {\"name\": \"Book\"}}::vertex')\n",
      "('{\"id\": 2533274792178575, \"label\": \"Item\", \"properties\": {\"asin\": \"814404995\", \"title\": \"By the Numbers: Using Facts and Figures to Get Your Projects, Plans, and Ideas Approved\", \"salesrank\": 1099139, \"avg_rating\": 5, \"total_reviews\": 1, \"downloaded_reviews\": 1}}::vertex', '{\"id\": 13229323905587217, \"label\": \"BELONGS_TO\", \"end_id\": 3377699720527873, \"start_id\": 2533274792178575, \"properties\": {}}::edge', '{\"id\": 3377699720527873, \"label\": \"Group\", \"properties\": {\"name\": \"Book\"}}::vertex')\n"
     ]
    }
   ],
   "source": [
    "query = (\"SELECT * FROM cypher ('amazon_metadata_test', $$ MATCH (source:Item)-[r:BELONGS_TO]->(target:Group) RETURN source, r, target ORDER BY ID(r) DESC LIMIT 10 $$) as ( source agtype, r agtype, target agtype);\")\n",
    "execute(query)"
   ]
  },
  {
   "cell_type": "code",
   "execution_count": 60,
   "metadata": {},
   "outputs": [],
   "source": [
    "query = (\"SELECT * FROM cypher ('amazon_metadata_test', $$ MATCH (source:Item)-[r:BELONGS_TO]->(target:Group) WITH r ORDER BY ID(r) DESC LIMIT 78 DELETE r RETURN count(*) $$) as ( deleted_relations_count bigint);\")\n",
    "execute(query)"
   ]
  },
  {
   "cell_type": "code",
   "execution_count": null,
   "metadata": {},
   "outputs": [],
   "source": []
  }
 ],
 "metadata": {
  "kernelspec": {
   "display_name": "Python 3",
   "language": "python",
   "name": "python3"
  },
  "language_info": {
   "codemirror_mode": {
    "name": "ipython",
    "version": 3
   },
   "file_extension": ".py",
   "mimetype": "text/x-python",
   "name": "python",
   "nbconvert_exporter": "python",
   "pygments_lexer": "ipython3",
   "version": "3.8.3"
  }
 },
 "nbformat": 4,
 "nbformat_minor": 4
}
