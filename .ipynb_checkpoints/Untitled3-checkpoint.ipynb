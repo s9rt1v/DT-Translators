{
 "cells": [
  {
   "cell_type": "code",
   "execution_count": 1,
   "metadata": {},
   "outputs": [],
   "source": [
    "import numpy as np\n",
    "import glob\n",
    "import os, os.path\n",
    "import math\n",
    "import pandas as pd\n",
    "import psycopg2\n",
    "import json"
   ]
  },
  {
   "cell_type": "code",
   "execution_count": 126,
   "metadata": {},
   "outputs": [],
   "source": [
    "def psqlConnect(dbname, user, pwd, host, port):\n",
    "    conn = None\n",
    "    try:\n",
    "        conn = psycopg2.connect(\n",
    "            dbname=dbname,\n",
    "            user=user,\n",
    "            password=pwd,\n",
    "            host=host,\n",
    "            port=port\n",
    "        )\n",
    "        print(\"Successfully connected to the database.\")\n",
    "    except psycopg2.Error as e:\n",
    "        print(f\"An error occurred while connecting to the database: {e}\")\n",
    "    return conn\n",
    "\n",
    "def load_age():\n",
    "    try:\n",
    "        cur.execute(\"LOAD 'age';\")\n",
    "    except psycopg2.Error as e:\n",
    "        print(f\"An error occurred: {e}\")\n",
    "        conn.rollback()\n",
    "    \n",
    "    try:\n",
    "        cur.execute(\"SET search_path TO ag_catalog;\")\n",
    "    except psycopg2.Error as e:\n",
    "        print(f\"An error occurred: {e}\")\n",
    "        conn.rollback()\n",
    "        \n",
    "def execute(query):\n",
    "    try:\n",
    "        cur.execute(query)\n",
    "        conn.commit()\n",
    "    except psycopg2.Error as e:\n",
    "        print(f\"An error occurred: {e}\")\n",
    "        conn.rollback()\n",
    "def execute_n_fetch(query):\n",
    "    try:\n",
    "        cur.execute(query)\n",
    "        conn.commit()\n",
    "        rows = cur.fetchall()\n",
    "    except psycopg2.Error as e:\n",
    "        print(f\"An error occurred: {e}\")\n",
    "        conn.rollback()"
   ]
  },
  {
   "cell_type": "code",
   "execution_count": 3,
   "metadata": {},
   "outputs": [
    {
     "name": "stdout",
     "output_type": "stream",
     "text": [
      "Successfully connected to the database.\n"
     ]
    }
   ],
   "source": [
    "dbname = \"demo\" \n",
    "user = \"s9rt1v\" \n",
    "pwd = \"1234\" \n",
    "host = \"localhost\" \n",
    "port = \"5430\"\n",
    "conn = psqlConnect(dbname, user, pwd, host, port)\n",
    "cur = conn.cursor()\n",
    "load_age()"
   ]
  },
  {
   "cell_type": "code",
   "execution_count": 152,
   "metadata": {},
   "outputs": [],
   "source": [
    "def get_node_labels(graph_name):\n",
    "    query = f\"SELECT * FROM cypher('{graph_name}', $$MATCH (n) RETURN DISTINCT labels(n)$$) AS (label agtype);\"\n",
    "    labels = []\n",
    "    try:\n",
    "        cur.execute(query)\n",
    "        conn.commit()\n",
    "        rows = cur.fetchall()\n",
    "        for row in rows:\n",
    "            label = row[0].split('\"')[1]\n",
    "            labels.append(label)\n",
    "    except psycopg2.Error as e:\n",
    "        print(f\"An error occurred: {e}\")\n",
    "        conn.rollback()\n",
    "    return labels\n",
    "\n",
    "def get_node_property_names(graph_name,node_label):\n",
    "    query = f\"SELECT * FROM cypher('{graph_name}', $$ MATCH (n:{node_label})RETURN DISTINCT keys(n) LIMIT 1 $$) AS (properties agtype);\"\n",
    "    property_names = []\n",
    "    try:\n",
    "        cur.execute(query)\n",
    "        conn.commit()\n",
    "        rows = cur.fetchall()\n",
    "        for row in rows:\n",
    "            p_names = row[0]\n",
    "            names = json.loads(p_names)\n",
    "            for name in names:\n",
    "                property_names.append(name)\n",
    "            #property_names.append(p_name)\n",
    "    except psycopg2.Error as e:\n",
    "        print(f\"An error occurred: {e}\")\n",
    "        conn.rollback()\n",
    "    return property_names\n",
    "\n",
    "def get_edge_labels(graph_name):\n",
    "    query = f\"SELECT * FROM cypher('{graph_name}', $$ MATCH (s)-[r]->(t) RETURN DISTINCT labels(s),TYPE(r),labels(t) $$) AS (s_l agtype,r_l agtype, t_l agtype);\"\n",
    "    execute(query)\n",
    "    rows = cur.fetchall()\n",
    "    labels = []\n",
    "    for row in rows:\n",
    "        infos = {}\n",
    "        infos['e_label'] = row[1].split('\"')[1]\n",
    "        infos['s_label'] = row[0].split('\"')[1]\n",
    "        infos['t_label'] = row[2].split('\"')[1]\n",
    "        labels.append(infos)\n",
    "        \n",
    "    return labels\n",
    "\n",
    "def get_edge_property_names( graph_name,edge_label):\n",
    "    query = f\"SELECT * FROM cypher('{graph_name}', $$ MATCH ()-[r:{edge_label}]->() RETURN DISTINCT keys(r) LIMIT 1 $$) AS (properties agtype);\"\n",
    "    property_names = []\n",
    "    try:\n",
    "        cur.execute(query)\n",
    "        conn.commit()\n",
    "        rows = cur.fetchall()\n",
    "        for row in rows:\n",
    "            p_names = row[0]\n",
    "            names = json.loads(p_names)\n",
    "            for name in names:\n",
    "                property_names.append(name)\n",
    "            #property_names.append(p_name)\n",
    "    except psycopg2.Error as e:\n",
    "        print(f\"An error occurred: {e}\")\n",
    "        conn.rollback()\n",
    "    return property_names\n",
    "\n",
    "def get_num_node_label(graph,label):\n",
    "    query = f\"SELECT * FROM cypher ('{graph}', $$ MATCH (n:{label}) RETURN count(n) $$) as (count agtype);\"\n",
    "    execute(query)\n",
    "    rows = cur.fetchall()\n",
    "    return int(rows[0][0])\n",
    "\n",
    "def get_num_edge_label(graph,label):\n",
    "    query = f\"SELECT * FROM cypher ('{graph}', $$ MATCH ()-[r:{label}]->() RETURN count(r) $$) as (count agtype);\"\n",
    "    execute(query)\n",
    "    rows = cur.fetchall()\n",
    "    return int(rows[0][0])"
   ]
  },
  {
   "cell_type": "code",
   "execution_count": 8,
   "metadata": {},
   "outputs": [
    {
     "data": {
      "text/plain": [
       "['BELONGS_TO', 'SIMILAR_TO']"
      ]
     },
     "execution_count": 8,
     "metadata": {},
     "output_type": "execute_result"
    }
   ],
   "source": [
    "get_edge_labels('amazon')"
   ]
  },
  {
   "cell_type": "code",
   "execution_count": 5,
   "metadata": {},
   "outputs": [],
   "source": [
    "graph = 'amazon'"
   ]
  },
  {
   "cell_type": "code",
   "execution_count": 52,
   "metadata": {},
   "outputs": [],
   "source": [
    "names = get_node_property_names('Product','amazon')"
   ]
  },
  {
   "cell_type": "code",
   "execution_count": 44,
   "metadata": {},
   "outputs": [],
   "source": [
    "label = 'Product'\n",
    "num = get_num_node_label(graph,label)"
   ]
  },
  {
   "cell_type": "code",
   "execution_count": 48,
   "metadata": {},
   "outputs": [
    {
     "data": {
      "text/plain": [
       "98920"
      ]
     },
     "execution_count": 48,
     "metadata": {},
     "output_type": "execute_result"
    }
   ],
   "source": [
    "get_num_edge_label(graph,'BELONGS_TO')"
   ]
  },
  {
   "cell_type": "code",
   "execution_count": 72,
   "metadata": {},
   "outputs": [
    {
     "data": {
      "text/plain": [
       "7"
      ]
     },
     "execution_count": 72,
     "metadata": {},
     "output_type": "execute_result"
    }
   ],
   "source": [
    "get_num_node_label(graph,'Group')"
   ]
  },
  {
   "cell_type": "code",
   "execution_count": 214,
   "metadata": {},
   "outputs": [],
   "source": [
    "p_names = get_edge_property_names(graph,'SIMILAR_TO')"
   ]
  },
  {
   "cell_type": "code",
   "execution_count": 135,
   "metadata": {},
   "outputs": [],
   "source": []
  },
  {
   "cell_type": "code",
   "execution_count": 136,
   "metadata": {},
   "outputs": [
    {
     "name": "stdout",
     "output_type": "stream",
     "text": [
      "CREATE TABLE Product(ID BIGINT PRIMARY KEY, asin TEXT, title TEXT, salesrank TEXT, avg_rating TEXT, total_reviews TEXT, downloaded_reviews TEXT);\n"
     ]
    }
   ],
   "source": [
    "node_table_creator(graph,names,'Product')"
   ]
  },
  {
   "cell_type": "code",
   "execution_count": 96,
   "metadata": {},
   "outputs": [],
   "source": [
    "query = \"SELECT * FROM cypher ('amazon',$$ MATCH (n:Product) RETURN n LIMIT 500 $$) AS (a agtype);\"\n",
    "execute(query)"
   ]
  },
  {
   "cell_type": "code",
   "execution_count": 97,
   "metadata": {},
   "outputs": [],
   "source": [
    "rows = cur.fetchall()"
   ]
  },
  {
   "cell_type": "code",
   "execution_count": 243,
   "metadata": {},
   "outputs": [
    {
     "data": {
      "text/plain": [
       "[('{\"id\": 1688849860263938, \"label\": \"SIMILAR_TO\", \"end_id\": 844424930202453, \"start_id\": 844424930140164, \"properties\": {\"similarity\": 9}}::edge',),\n",
       " ('{\"id\": 1688849860263939, \"label\": \"SIMILAR_TO\", \"end_id\": 844424930170190, \"start_id\": 844424930140169, \"properties\": {\"similarity\": 6}}::edge',)]"
      ]
     },
     "execution_count": 243,
     "metadata": {},
     "output_type": "execute_result"
    }
   ],
   "source": [
    "b"
   ]
  },
  {
   "cell_type": "code",
   "execution_count": 93,
   "metadata": {},
   "outputs": [],
   "source": [
    "a_n = a.split('::vertex')[0]\n",
    "b = json.loads(a_n)"
   ]
  },
  {
   "cell_type": "code",
   "execution_count": 139,
   "metadata": {},
   "outputs": [],
   "source": [
    "def node_table_creator(graph,p_names,n_label):\n",
    "    pre = f\"DROP TABLE IF EXISTS {n_label};\"\n",
    "    execute(pre)\n",
    "    table_para = 'ID BIGINT PRIMARY KEY'\n",
    "    if p_names:\n",
    "        q = ''\n",
    "        for name in p_names:\n",
    "            if q == '':\n",
    "                q = f\"SELECT * FROM cypher ('{graph}', $$ MATCH (n:{label}) WHERE n.{name} IS NOT NULL \"\n",
    "            else:\n",
    "                q = q + f\"AND r.{name} IS NOT NULL \"\n",
    "        q = q + \"RETURN r LIMIT 1 $$) AS (a agtype);\"\n",
    "        execute(q)\n",
    "        rows = cur.fetchall()\n",
    "        js = njson_processor(rows[0][0])\n",
    "        p_values = js['properties']\n",
    "        for name in p_names:\n",
    "            value = p_values[name]\n",
    "            if type(value) == str:\n",
    "                table_para = table_para + \", \" + name + \" TEXT\"\n",
    "            elif type(value) == int:\n",
    "                if value > 2147483647 or value <  -2147483648:\n",
    "                    table_para = table_para + \", \" + name + \" BIGINT\"\n",
    "                else:\n",
    "                    table_para = table_para + \", \" + name + \" INTEGER\"\n",
    "            elif type(value) == float:\n",
    "                table_para = table_para + \", \" + name + \" DECIMAL\"\n",
    "    query = f\"CREATE TABLE {n_label}({table_para});\"\n",
    "    execute(query)"
   ]
  },
  {
   "cell_type": "code",
   "execution_count": 202,
   "metadata": {},
   "outputs": [],
   "source": [
    "\n",
    "def get_nodes(graph, label):\n",
    "    query = f\"SELECT * FROM cypher ('{graph}',$$ MATCH (n:{label}) RETURN n $$) AS (a agtype);\"\n",
    "    execute(query)\n",
    "    rows = cur.fetchall()\n",
    "    return rows\n",
    "\n",
    "def njson_processor(text):\n",
    "    t_n = text.split('::vertex')[0]\n",
    "    t_json = json.loads(t_n)\n",
    "    return t_json\n",
    "\n",
    "def node_data_transformer(graph,p_names,n_label):\n",
    "    n_num = get_num_node_label(graph,n_label)\n",
    "    nodes = get_nodes(graph, n_label)\n",
    "    for i in range(n_num):\n",
    "        js = njson_processor(nodes[i][0])\n",
    "        p_values = js['properties']\n",
    "        ID = js['id']\n",
    "        cols = 'ID'\n",
    "        \n",
    "        if p_names:\n",
    "            values = ''\n",
    "            for name in p_names:\n",
    "                cols = cols + ', ' + name\n",
    "                if values == '':\n",
    "                    values = \"'\" + str(p_values[name]) + \"'\"\n",
    "                else:\n",
    "                    values = values + \", '\"  + str(p_values[name]) + \"'\"\n",
    "            query = f\"INSERT INTO {n_label} ({cols}) VALUES ({ID}, {values});\"\n",
    "        else:\n",
    "            query = f\"INSERT INTO {n_label} ({cols}) VALUES ({ID});\"\n",
    "        \n",
    "        execute(query)"
   ]
  },
  {
   "cell_type": "code",
   "execution_count": 134,
   "metadata": {},
   "outputs": [
    {
     "name": "stdout",
     "output_type": "stream",
     "text": [
      "INSERT INTO Product (ID, asin, title, salesrank, avg_rating, total_reviews, downloaded_reviews) VALUES (844424930155523, 'B000000D5Z', 'Donny & Marie Osmond - Greatest Hits', '37709.0', '4.0', '15.0', '15.0');\n",
      "INSERT INTO Product (ID, asin, title, salesrank, avg_rating, total_reviews, downloaded_reviews) VALUES (844424930155524, '521448522', 'System and Writing in the Philosophy of Jacques Derrida (Cambridge Studies in French)', '657565.0', '0.0', '0.0', '0.0');\n"
     ]
    }
   ],
   "source": [
    "p_names = get_node_property_names('Product',graph)\n",
    "node_data_transformer(graph,p_names,'Product')"
   ]
  },
  {
   "cell_type": "code",
   "execution_count": 108,
   "metadata": {},
   "outputs": [],
   "source": [
    "c = get_nodes(graph, 'Product')"
   ]
  },
  {
   "cell_type": "code",
   "execution_count": 109,
   "metadata": {},
   "outputs": [
    {
     "data": {
      "text/plain": [
       "'{\"id\": 844424930155523, \"label\": \"Product\", \"properties\": {\"asin\": \"B000000D5Z\", \"title\": \"Donny & Marie Osmond - Greatest Hits\", \"salesrank\": \"37709.0\", \"avg_rating\": \"4.0\", \"total_reviews\": \"15.0\", \"downloaded_reviews\": \"15.0\"}}::vertex'"
      ]
     },
     "execution_count": 109,
     "metadata": {},
     "output_type": "execute_result"
    }
   ],
   "source": [
    "c[0][0]"
   ]
  },
  {
   "cell_type": "code",
   "execution_count": 112,
   "metadata": {},
   "outputs": [
    {
     "data": {
      "text/plain": [
       "['asin',\n",
       " 'title',\n",
       " 'salesrank',\n",
       " 'avg_rating',\n",
       " 'total_reviews',\n",
       " 'downloaded_reviews']"
      ]
     },
     "execution_count": 112,
     "metadata": {},
     "output_type": "execute_result"
    }
   ],
   "source": [
    "p_names"
   ]
  },
  {
   "cell_type": "code",
   "execution_count": 248,
   "metadata": {},
   "outputs": [],
   "source": [
    "def edge_table_creator(graph,e_label):\n",
    "    label = e_label['e_label']\n",
    "    s_label = e_label['s_label']\n",
    "    t_label = e_label['t_label']\n",
    "    pre = f\"DROP TABLE IF EXISTS \\\"{label}\\\";\"\n",
    "    execute(pre)\n",
    "    p_names = get_edge_property_names(graph, label)\n",
    "    table_para = 'ID BIGINT PRIMARY KEY, sourceid BIGINT, targetid BIGINT'\n",
    "    if p_names:\n",
    "        q = ''\n",
    "        for name in p_names:\n",
    "            if q == '':\n",
    "                q = f\"SELECT * FROM cypher ('{graph}', $$ MATCH ()-[r:{label}]->() WHERE r.{name} IS NOT NULL \"\n",
    "            else:\n",
    "                q = q + f\"AND r.{name} IS NOT NULL \"\n",
    "        q = q + \"RETURN r LIMIT 1 $$) AS (a agtype);\"\n",
    "        execute(q)\n",
    "        rows = cur.fetchall()\n",
    "        js = ejson_processor(rows[0][0])\n",
    "        p_values = js['properties']\n",
    "        for name in p_names:\n",
    "            value = p_values[name]\n",
    "            if type(value) == str:\n",
    "                table_para = table_para + \", \" + name + \" TEXT\"\n",
    "            elif type(value) == int:\n",
    "                if value > 2147483647 or value <  -2147483648:\n",
    "                    table_para = table_para + \", \" + name + \" BIGINT\"\n",
    "                else:\n",
    "                    table_para = table_para + \", \" + name + \" INTEGER\"\n",
    "            elif type(value) == float:\n",
    "                table_para = table_para + \", \" + name + \" DECIMAL\"\n",
    "                \n",
    "    table_para = table_para + \", \" + f\"FOREIGN KEY (sourceid) REFERENCES \\\"{s_label}\\\" (ID), FOREIGN KEY (targetid) REFERENCES \\\"{t_label}\\\" (ID)\"\n",
    "    query = f\"CREATE TABLE \\\"{label}\\\" ({table_para});\"\n",
    "    print(query)\n",
    "        "
   ]
  },
  {
   "cell_type": "code",
   "execution_count": 228,
   "metadata": {},
   "outputs": [],
   "source": [
    "def get_edges(graph, label):\n",
    "    query = f\"SELECT * FROM cypher('{graph}', $$MATCH ()-[r:{label}]->() RETURN r LIMIT 2 $$) as ( r agtype);\"\n",
    "    execute(query)\n",
    "    rows = cur.fetchall()\n",
    "    return rows\n",
    "\n",
    "def ejson_processor(text):\n",
    "    t_n = text.split('::edge')[0]\n",
    "    t_json = json.loads(t_n)\n",
    "    return t_json\n",
    "\n",
    "def edge_data_transformer(graph,p_names,e_label):\n",
    "    e_num = get_num_edge_label(graph,e_label)\n",
    "    edges = get_edges(graph, e_label)\n",
    "    for i in range(2):\n",
    "        js = ejson_processor(edges[i][0])\n",
    "        p_values = js['properties']\n",
    "        ID = js['id']\n",
    "        s_id = js['start_id']\n",
    "        t_id = js['end_id']\n",
    "        cols = 'ID, sourceid, targetid'\n",
    "        if p_names:\n",
    "            values = ''\n",
    "            for name in p_names:\n",
    "                cols = cols + ', ' + name\n",
    "                if values == '':\n",
    "                    values = \"'\" + str(p_values[name]) + \"'\"\n",
    "                else:\n",
    "                    values = values + \", '\"  + str(p_values[name]) + \"'\"\n",
    "                \n",
    "            query = f\"INSERT INTO {e_label} ({cols}) VALUES ({ID},{s_id},{t_id},{values});\"\n",
    "        else:\n",
    "            query = f\"INSERT INTO {e_label} ({cols}) VALUES ({ID},{s_id},{t_id});\"\n",
    "        print(query)\n",
    "        #execute(query)"
   ]
  },
  {
   "cell_type": "code",
   "execution_count": 199,
   "metadata": {},
   "outputs": [
    {
     "name": "stdout",
     "output_type": "stream",
     "text": [
      "CREATE TABLE BELONGS_TO(ID BIGINT PRIMARY KEY, sourceid BIGINT, targetid BIGINT, FOREIGN KEY (sourceid) REFERENCES Product (ID), FOREIGN KEY (targetid) REFERENCES Group (ID));\n"
     ]
    }
   ],
   "source": [
    "edge_table_creator(graph,e_label)"
   ]
  },
  {
   "cell_type": "code",
   "execution_count": 229,
   "metadata": {},
   "outputs": [],
   "source": [
    "b = get_edges(graph,'SIMILAR_TO')"
   ]
  },
  {
   "cell_type": "code",
   "execution_count": 230,
   "metadata": {},
   "outputs": [],
   "source": [
    "c = b[0][0].split('::edge')[0]\n",
    "c_n = json.loads(c)"
   ]
  },
  {
   "cell_type": "code",
   "execution_count": 168,
   "metadata": {},
   "outputs": [],
   "source": [
    "if c_n['properties']:\n",
    "    print(1)"
   ]
  },
  {
   "cell_type": "code",
   "execution_count": 169,
   "metadata": {},
   "outputs": [],
   "source": [
    "query = \"SELECT * FROM cypher('amazon', $$ MATCH (s)-[r]->(t) RETURN DISTINCT labels(s),TYPE(r),labels(t) $$) AS (s_l agtype,r_l agtype, t_l agtype);\"\n",
    "execute(query)\n",
    "rows = cur.fetchall()"
   ]
  },
  {
   "cell_type": "code",
   "execution_count": 182,
   "metadata": {},
   "outputs": [
    {
     "data": {
      "text/plain": [
       "['', 'BELONGS_TO', '']"
      ]
     },
     "execution_count": 182,
     "metadata": {},
     "output_type": "execute_result"
    }
   ],
   "source": [
    "rows[0][1].split('\"')"
   ]
  },
  {
   "cell_type": "code",
   "execution_count": 185,
   "metadata": {},
   "outputs": [],
   "source": [
    "labels = []\n",
    "\n",
    "for row in rows:\n",
    "    infos = {}\n",
    "    infos['e_label'] = row[1].split('\"')[1]\n",
    "    infos['s_label'] = row[0].split('\"')[1]\n",
    "    infos['t_label'] = row[2].split('\"')[1]\n",
    "    labels.append(infos)"
   ]
  },
  {
   "cell_type": "code",
   "execution_count": 215,
   "metadata": {},
   "outputs": [],
   "source": [
    "e_label = labels[1]"
   ]
  },
  {
   "cell_type": "code",
   "execution_count": 223,
   "metadata": {},
   "outputs": [
    {
     "name": "stdout",
     "output_type": "stream",
     "text": [
      "INSERT INTO SIMILAR_TO (ID, sourceid, targetid, similarity) VALUES (1688849860263938,844424930140164,844424930202453,'9');\n",
      "INSERT INTO SIMILAR_TO (ID, sourceid, targetid, similarity) VALUES (1688849860263939,844424930140169,844424930170190,'6');\n"
     ]
    }
   ],
   "source": [
    "edge_data_transformer(graph,p_names,e_label['e_label'])"
   ]
  },
  {
   "cell_type": "code",
   "execution_count": 231,
   "metadata": {},
   "outputs": [
    {
     "data": {
      "text/plain": [
       "{'id': 1688849860263938,\n",
       " 'label': 'SIMILAR_TO',\n",
       " 'end_id': 844424930202453,\n",
       " 'start_id': 844424930140164,\n",
       " 'properties': {'similarity': 9}}"
      ]
     },
     "execution_count": 231,
     "metadata": {},
     "output_type": "execute_result"
    }
   ],
   "source": [
    "c_n['properties']['similarity']"
   ]
  },
  {
   "cell_type": "code",
   "execution_count": 232,
   "metadata": {},
   "outputs": [
    {
     "data": {
      "text/plain": [
       "int"
      ]
     },
     "execution_count": 232,
     "metadata": {},
     "output_type": "execute_result"
    }
   ],
   "source": [
    "type(c_n['properties']['similarity'])"
   ]
  },
  {
   "cell_type": "code",
   "execution_count": 244,
   "metadata": {},
   "outputs": [
    {
     "data": {
      "text/plain": [
       "float"
      ]
     },
     "execution_count": 244,
     "metadata": {},
     "output_type": "execute_result"
    }
   ],
   "source": [
    "type(0.9)"
   ]
  },
  {
   "cell_type": "code",
   "execution_count": 220,
   "metadata": {},
   "outputs": [
    {
     "data": {
      "text/plain": [
       "str"
      ]
     },
     "execution_count": 220,
     "metadata": {},
     "output_type": "execute_result"
    }
   ],
   "source": [
    "type('s')"
   ]
  },
  {
   "cell_type": "code",
   "execution_count": 235,
   "metadata": {},
   "outputs": [
    {
     "data": {
      "text/plain": [
       "{'e_label': 'SIMILAR_TO', 's_label': 'Product', 't_label': 'Product'}"
      ]
     },
     "execution_count": 235,
     "metadata": {},
     "output_type": "execute_result"
    }
   ],
   "source": [
    "e_label"
   ]
  },
  {
   "cell_type": "code",
   "execution_count": 249,
   "metadata": {},
   "outputs": [
    {
     "name": "stdout",
     "output_type": "stream",
     "text": [
      "CREATE TABLE \"SIMILAR_TO\" (ID BIGINT PRIMARY KEY, sourceid BIGINT, targetid BIGINT, similarity INTEGER, FOREIGN KEY (sourceid) REFERENCES \"Product\" (ID), FOREIGN KEY (targetid) REFERENCES \"Product\" (ID));\n"
     ]
    }
   ],
   "source": [
    "edge_table_creator(graph,e_label)"
   ]
  },
  {
   "cell_type": "code",
   "execution_count": 225,
   "metadata": {},
   "outputs": [
    {
     "ename": "TypeError",
     "evalue": "'>' not supported between instances of 'str' and 'int'",
     "output_type": "error",
     "traceback": [
      "\u001b[0;31m---------------------------------------------------------------------------\u001b[0m",
      "\u001b[0;31mTypeError\u001b[0m                                 Traceback (most recent call last)",
      "\u001b[0;32m<ipython-input-225-14a3c0d0bc9c>\u001b[0m in \u001b[0;36m<module>\u001b[0;34m\u001b[0m\n\u001b[0;32m----> 1\u001b[0;31m \u001b[0;34m'9'\u001b[0m\u001b[0;34m>\u001b[0m\u001b[0;36m6\u001b[0m\u001b[0;34m\u001b[0m\u001b[0;34m\u001b[0m\u001b[0m\n\u001b[0m",
      "\u001b[0;31mTypeError\u001b[0m: '>' not supported between instances of 'str' and 'int'"
     ]
    }
   ],
   "source": [
    "'9'>6"
   ]
  },
  {
   "cell_type": "code",
   "execution_count": 246,
   "metadata": {},
   "outputs": [
    {
     "data": {
      "text/plain": [
       "True"
      ]
     },
     "execution_count": 246,
     "metadata": {},
     "output_type": "execute_result"
    }
   ],
   "source": [
    "-1>-2147483648"
   ]
  },
  {
   "cell_type": "code",
   "execution_count": 247,
   "metadata": {},
   "outputs": [
    {
     "data": {
      "text/plain": [
       "int"
      ]
     },
     "execution_count": 247,
     "metadata": {},
     "output_type": "execute_result"
    }
   ],
   "source": [
    "type(844424930202453)"
   ]
  },
  {
   "cell_type": "code",
   "execution_count": null,
   "metadata": {},
   "outputs": [],
   "source": []
  }
 ],
 "metadata": {
  "kernelspec": {
   "display_name": "Python 3",
   "language": "python",
   "name": "python3"
  },
  "language_info": {
   "codemirror_mode": {
    "name": "ipython",
    "version": 3
   },
   "file_extension": ".py",
   "mimetype": "text/x-python",
   "name": "python",
   "nbconvert_exporter": "python",
   "pygments_lexer": "ipython3",
   "version": "3.8.3"
  }
 },
 "nbformat": 4,
 "nbformat_minor": 4
}
