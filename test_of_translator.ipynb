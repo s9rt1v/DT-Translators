{
 "cells": [
  {
   "cell_type": "markdown",
   "metadata": {},
   "source": [
    "### Model Translator Test Example Code\n"
   ]
  },
  {
   "cell_type": "code",
   "execution_count": 1,
   "metadata": {},
   "outputs": [],
   "source": [
    "from model_translator import *"
   ]
  },
  {
   "cell_type": "code",
   "execution_count": null,
   "metadata": {},
   "outputs": [],
   "source": [
    "dbname = #type your database name here e.g. \"demo\"\n",
    "user = #your user name e.g. \"dbuser\"\n",
    "pwd = #your password e.g. \"1234\"\n",
    "host = #your host name e.g.\"localhost\"\n",
    "port = #your port number e.g. \"5432\"\n",
    "psqlConnect(dbname, user, pwd, host, port)\n",
    "load_age()"
   ]
  },
  {
   "cell_type": "code",
   "execution_count": null,
   "metadata": {},
   "outputs": [],
   "source": [
    "graph_name = #type your graph_name here\n",
    "translator(graph_name)"
   ]
  },
  {
   "cell_type": "markdown",
   "metadata": {},
   "source": [
    "### Query Translator Test Example Code"
   ]
  },
  {
   "cell_type": "code",
   "execution_count": 2,
   "metadata": {},
   "outputs": [],
   "source": [
    "from Cypher2sqlTranslator import *"
   ]
  },
  {
   "cell_type": "code",
   "execution_count": null,
   "metadata": {},
   "outputs": [],
   "source": [
    "query = #your query string here e.g. \"MATCH (a:Account {isBlocked:'no'}) −[:isLocatedIn]−>(g:City {name:'Ankh−Morpork'}) <−[:isLocatedIn]−(b:Account {isBlocked:'yes'}), p = (a)−[e:Transfer*2]−>(b) WHERE e.amount> 100 RETURN a.owner, b.owner LIMIT 10\"\n",
    "#the translated Recursive SQL or simple SQL query will be shown below\n",
    "translator(query)"
   ]
  }
 ],
 "metadata": {
  "kernelspec": {
   "display_name": "Python 3",
   "language": "python",
   "name": "python3"
  },
  "language_info": {
   "codemirror_mode": {
    "name": "ipython",
    "version": 3
   },
   "file_extension": ".py",
   "mimetype": "text/x-python",
   "name": "python",
   "nbconvert_exporter": "python",
   "pygments_lexer": "ipython3",
   "version": "3.8.3"
  }
 },
 "nbformat": 4,
 "nbformat_minor": 4
}
