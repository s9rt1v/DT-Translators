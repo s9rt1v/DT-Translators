{
 "cells": [
  {
   "cell_type": "code",
   "execution_count": 1,
   "metadata": {},
   "outputs": [],
   "source": [
    "import numpy as np\n",
    "import glob\n",
    "import os, os.path\n",
    "import math\n",
    "import pandas as pd\n",
    "import psycopg2"
   ]
  },
  {
   "cell_type": "code",
   "execution_count": 2,
   "metadata": {},
   "outputs": [],
   "source": [
    "df = pd.read_csv('amazon_reduced.csv')"
   ]
  },
  {
   "cell_type": "code",
   "execution_count": null,
   "metadata": {},
   "outputs": [],
   "source": []
  },
  {
   "cell_type": "code",
   "execution_count": 3,
   "metadata": {},
   "outputs": [],
   "source": [
    "def psqlConnect(dbname, user, pwd, host, port):\n",
    "    conn = None\n",
    "    try:\n",
    "        conn = psycopg2.connect(\n",
    "            dbname=dbname,\n",
    "            user=user,\n",
    "            password=pwd,\n",
    "            host=host,\n",
    "            port=port\n",
    "        )\n",
    "        print(\"Successfully connected to the database.\")\n",
    "    except psycopg2.Error as e:\n",
    "        print(f\"An error occurred while connecting to the database: {e}\")\n",
    "    return conn\n",
    "\n",
    "def load_age():\n",
    "    try:\n",
    "        cur.execute(\"LOAD 'age';\")\n",
    "    except psycopg2.Error as e:\n",
    "        print(f\"An error occurred: {e}\")\n",
    "        conn.rollback()\n",
    "    \n",
    "    try:\n",
    "        cur.execute(\"SET search_path TO ag_catalog;\")\n",
    "    except psycopg2.Error as e:\n",
    "        print(f\"An error occurred: {e}\")\n",
    "        conn.rollback()\n",
    "        \n",
    "def execute(query):\n",
    "    try:\n",
    "        cur.execute(query)\n",
    "        conn.commit()\n",
    "        rows = cur.fetchall()\n",
    "        for row in rows:\n",
    "            print(row)\n",
    "    except psycopg2.Error as e:\n",
    "        print(f\"An error occurred: {e}\")\n",
    "        conn.rollback()"
   ]
  },
  {
   "cell_type": "code",
   "execution_count": 4,
   "metadata": {},
   "outputs": [
    {
     "name": "stdout",
     "output_type": "stream",
     "text": [
      "Successfully connected to the database.\n"
     ]
    }
   ],
   "source": [
    "#replace parameters with yours",
    "dbname = \"demo\" \n",
    "user = \"s9rt1v\" \n",
    "pwd = \"1234\" \n",
    "host = \"localhost\" \n",
    "port = \"5430\"\n",
    "conn = psqlConnect(dbname, user, pwd, host, port)\n",
    "cur = conn.cursor()\n",
    "load_age()"
   ]
  },
  {
   "cell_type": "code",
   "execution_count": null,
   "metadata": {},
   "outputs": [],
   "source": [
    "#create graph\n",
    "graph = 'amazon'\n",
    "query =f\"SELECT create_graph('{graph}');\"\n",
    "execute(query)"
   ]
  },
  {
   "cell_type": "code",
   "execution_count": null,
   "metadata": {},
   "outputs": [],
   "source": [
    "#create nodes:Product\n",
    "for i in range(100000):\n",
    "    n_dict={}\n",
    "    for column in ['asin', 'title', 'salesrank', 'total_reviews', 'downloaded_reviews', 'avg_rating']:\n",
    "        if not pd.isna(df_reduced.loc[i][column]):\n",
    "            n_dict[column] = df_reduced.loc[i][column]\n",
    "        else:\n",
    "            n_dict[column] = ''\n",
    "    n_dict['title'] = n_dict['title'].replace(\"'\", \"\")\n",
    "    n_dict['title'] = n_dict['title'].replace(\"$\", \"S\")\n",
    "    n_dict['title'] = n_dict['title'].replace(\"\\\\\", \"\")\n",
    "    query = f\"\"\"SELECT * FROM cypher('amazon', $$ CREATE (n:Product {{ asin: '{n_dict['asin']}', title: '{n_dict['title']}', salesrank: '{n_dict['salesrank']}', total_reviews: '{n_dict['total_reviews']}', downloaded_reviews: '{n_dict['downloaded_reviews']}', avg_rating: '{n_dict['avg_rating']}' }}) $$) AS (a agtype);\"\"\"\n",
    "    execute(query)"
   ]
  },
  {
   "cell_type": "code",
   "execution_count": null,
   "metadata": {},
   "outputs": [],
   "source": [
    "#create nodes:Group\n",
    "group = df['group'].unique().tolist()\n",
    "for i in range(len(group)-1):\n",
    "    name = group[i+1]\n",
    "    query = f\"\"\"SELECT * FROM cypher('amazon', $$ CREATE (n:Group {{name: '{name}'}})$$) AS (a agtype);\"\"\"\n",
    "    execute(query)"
   ]
  },
  {
   "cell_type": "code",
   "execution_count": null,
   "metadata": {},
   "outputs": [],
   "source": [
    "#create edges:BELONGS_TO for node product and group\n",
    "for i in range(df.shape[0]):\n",
    "    if not pd.isna(df.iloc[i]['group']):\n",
    "        group = df.iloc[i]['group']\n",
    "        asin = df.iloc[i]['asin']\n",
    "        query = f\"SELECT * FROM cypher ('amazon', $$ MATCH (source:Product {{ asin: '{asin}' }}), (target:Group {{ name: '{group}' }}) CREATE (source)-[:BELONGS_TO]->(target) $$) as (a agtype);\"\n",
    "        execute(query)\n"
   ]
  },
  {
   "cell_type": "code",
   "execution_count": null,
   "metadata": {},
   "outputs": [],
   "source": [
    "#create edges:SIMILAR_TO for node product and product\n",
    "for i in range(df.shape[0]):\n",
    "    if not pd.isna(df.iloc[i]['similar']):\n",
    "        sim_asins =  df.iloc[i]['similar'].split(', ')\n",
    "        asin = df.iloc[i]['asin']\n",
    "        similarities = df.iloc[i]['similarity']\n",
    "        for i in range(len(sim_asins)):\n",
    "            sim_asin = sim_asins[i]\n",
    "            similarity = int(similarities[i])\n",
    "            query = f\"SELECT * FROM cypher ('amazon', $$ MATCH (source:Product {{ asin: '{asin}' }}), (target:Product {{ asin: '{sim_asin}' }}) CREATE (source)-[:SIMILAR_TO{{similarity:{similarity}}}]->(target) $$) as (a agtype);\"\n",
    "            execute(query)"
   ]
  }
 ],
 "metadata": {
  "kernelspec": {
   "display_name": "Python 3",
   "language": "python",
   "name": "python3"
  },
  "language_info": {
   "codemirror_mode": {
    "name": "ipython",
    "version": 3
   },
   "file_extension": ".py",
   "mimetype": "text/x-python",
   "name": "python",
   "nbconvert_exporter": "python",
   "pygments_lexer": "ipython3",
   "version": "3.8.3"
  }
 },
 "nbformat": 4,
 "nbformat_minor": 4
}
