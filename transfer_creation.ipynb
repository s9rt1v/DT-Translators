{
 "cells": [
  {
   "cell_type": "code",
   "execution_count": 6,
   "metadata": {},
   "outputs": [],
   "source": [
    "import os, os.path\n",
    "import math\n",
    "import pandas as pd\n",
    "import numpy as np\n",
    "import psycopg2\n",
    "import json\n",
    "import faker\n",
    "import random"
   ]
  },
  {
   "cell_type": "code",
   "execution_count": 17,
   "metadata": {},
   "outputs": [],
   "source": [
    "cities = ['New York', 'Chicago', 'Los Angeles', 'San Francisco', 'Houston', 'Phoenix', 'San Diego', 'Dallas']\n",
    "\n",
    "def generate_accounts(num_accounts):\n",
    "    account_data = {\n",
    "        'accountID': [],\n",
    "        'name': [],\n",
    "        'balance': [],\n",
    "        'isBlocked': [],\n",
    "        'location': []\n",
    "    }\n",
    "    \n",
    "    for i in range(num_accounts):\n",
    "        fake = faker.Faker()\n",
    "        account_data['accountID'].append(i + 1)\n",
    "        account_data['name'].append(fake.name())\n",
    "        # random balance between 1000.00 and 10000.00 with 2 decimal places\n",
    "        account_data['balance'].append(round(random.uniform(100.00, 50000.00), 2))\n",
    "        account_data['isBlocked'].append(random.choice(['yes', 'no'])) # random blocked status\n",
    "        account_data['location'].append(random.choice(cities)) # random location ID between 1 and number of cities\n",
    "\n",
    "    return pd.DataFrame(account_data)\n",
    "\n",
    "df_accounts = generate_accounts(500)\n",
    "df_cities = pd.DataFrame(cities)"
   ]
  },
  {
   "cell_type": "code",
   "execution_count": 22,
   "metadata": {},
   "outputs": [],
   "source": [
    "def generate_transactions(num_transactions, accounts_df):\n",
    "    transaction_data = {\n",
    "        'transactionID': [],\n",
    "        'fromAccountID': [],\n",
    "        'toAccountID': [],\n",
    "        'amount': []\n",
    "    }\n",
    "    \n",
    "    account_ids = accounts_df['accountID'].tolist()\n",
    "    \n",
    "    for i in range(num_transactions):\n",
    "        transaction_data['transactionID'].append(i + 1)\n",
    "        transaction_data['fromAccountID'].append(random.choice(account_ids))\n",
    "        \n",
    "        to_account_id = random.choice(account_ids)\n",
    "        while to_account_id == transaction_data['fromAccountID'][-1]:  # ensure that From and To accounts are different\n",
    "            to_account_id = random.choice(account_ids)\n",
    "        transaction_data['toAccountID'].append(to_account_id)\n",
    "        \n",
    "        transaction_data['amount'].append(round(random.uniform(1.00, 5000.00), 2))  # random transaction amount between 1 and 5000\n",
    "\n",
    "    return pd.DataFrame(transaction_data)\n",
    "\n",
    "df_transactions = generate_transactions(5000, df_accounts)\n"
   ]
  },
  {
   "cell_type": "code",
   "execution_count": 33,
   "metadata": {},
   "outputs": [],
   "source": [
    "df_accounts.to_csv('accounts.csv',index=False)\n",
    "df_cities.to_csv('cities.csv',index=False)\n",
    "df_transactions.to_csv('transactions.csv',index=False)"
   ]
  },
  {
   "cell_type": "code",
   "execution_count": 28,
   "metadata": {},
   "outputs": [],
   "source": [
    "def psqlConnect(dbname, user, pwd, host, port):\n",
    "    conn = None\n",
    "    try:\n",
    "        conn = psycopg2.connect(\n",
    "            dbname=dbname,\n",
    "            user=user,\n",
    "            password=pwd,\n",
    "            host=host,\n",
    "            port=port\n",
    "        )\n",
    "        print(\"Successfully connected to the database.\")\n",
    "    except psycopg2.Error as e:\n",
    "        print(f\"An error occurred while connecting to the database: {e}\")\n",
    "    return conn\n",
    "\n",
    "def load_age():\n",
    "    try:\n",
    "        cur.execute(\"LOAD 'age';\")\n",
    "    except psycopg2.Error as e:\n",
    "        print(f\"An error occurred: {e}\")\n",
    "        conn.rollback()\n",
    "    \n",
    "    try:\n",
    "        cur.execute(\"SET search_path TO ag_catalog;\")\n",
    "    except psycopg2.Error as e:\n",
    "        print(f\"An error occurred: {e}\")\n",
    "        conn.rollback()\n",
    "        \n",
    "def execute(query):\n",
    "    try:\n",
    "        cur.execute(query)\n",
    "        conn.commit()\n",
    "        rows = cur.fetchall()\n",
    "        for row in rows:\n",
    "            print(row)\n",
    "    except psycopg2.Error as e:\n",
    "        print(f\"An error occurred: {e}\")\n",
    "        conn.rollback()"
   ]
  },
  {
   "cell_type": "code",
   "execution_count": 36,
   "metadata": {},
   "outputs": [
    {
     "name": "stdout",
     "output_type": "stream",
     "text": [
      "Successfully connected to the database.\n"
     ]
    }
   ],
   "source": [
    "#replace parameters with yours \n",
    "dbname = \"demo\" \n",
    "user = \"s9rt1v\" \n",
    "pwd = \"1234\" \n",
    "host = \"localhost\" \n",
    "port = \"5430\"\n",
    "conn = psqlConnect(dbname, user, pwd, host, port)\n",
    "cur = conn.cursor()\n",
    "load_age()"
   ]
  },
  {
   "cell_type": "code",
   "execution_count": 42,
   "metadata": {},
   "outputs": [],
   "source": [
    "#create graph\n",
    "graph = 'trans'\n",
    "query =f\"SELECT create_graph('{graph}');\"\n",
    "execute(query)"
   ]
  },
  {
   "cell_type": "code",
   "execution_count": 57,
   "metadata": {},
   "outputs": [],
   "source": [
    "#create Account nodes\n",
    "for i in range(df_accounts.shape[0]):\n",
    "    accountID = df_accounts.iloc[i]['accountID']\n",
    "    name = df_accounts.iloc[i]['name']\n",
    "    balance = df_accounts.iloc[i]['balance']\n",
    "    isBlocked = df_accounts.iloc[i]['isBlocked']\n",
    "    location = df_accounts.iloc[i]['location']\n",
    "    query = f\"SELECT * FROM cypher ('trans', $$ CREATE (n:Account{{accountID:{accountID},name:\\\"{name}\\\",balance:{balance},isBlocked:\\'{isBlocked}\\',location:\\\"{location}\\\"}})  $$) AS (a agtype);\"\n",
    "\n",
    "    execute(query)"
   ]
  },
  {
   "cell_type": "code",
   "execution_count": 49,
   "metadata": {},
   "outputs": [],
   "source": [
    "#add City nodes\n",
    "for i in range(df_cities.shape[0]):\n",
    "    name = cities[i]\n",
    "    query = f\"SELECT * FROM cypher ('trans', $$ CREATE (n:City{{name:\\\"{name}\\\"}})  $$) AS (a agtype);\"\n",
    "    execute(query)"
   ]
  },
  {
   "cell_type": "code",
   "execution_count": null,
   "metadata": {},
   "outputs": [],
   "source": [
    "#create isLocatedIn edges\n",
    "for i in range(df_accounts.shape[0]):\n",
    "    ID = int(df_accounts.iloc[i]['accountID'])\n",
    "    city = df_accounts.iloc[i]['location'])\n",
    "    query = f\"SELECT * FROM cypher ('trans', $$ MATCH (source:Account {{ accountID: {ID} }}), (target:City {{ name: \\\"{city}\\\" }}) CREATE (source)-[:isLocatedIn]->(target)  $$) AS (a agtype);\"\n",
    "    execute(query)"
   ]
  },
  {
   "cell_type": "code",
   "execution_count": 55,
   "metadata": {},
   "outputs": [],
   "source": [
    "#create Transfer edges\n",
    "for i in range(df_transactions.shape[0]):\n",
    "    fromAccountID = int(df_transactions.iloc[i]['fromAccountID'])\n",
    "    toAccountID = int(df_transactions.iloc[i]['toAccountID'])\n",
    "    transactionID = int(df_transactions.iloc[i]['transactionID'])\n",
    "    amount = df_transactions.iloc[i]['amount']\n",
    "    query = f\"SELECT * FROM cypher ('trans', $$ MATCH (source:Account {{ accountID: {fromAccountID} }}), (target:Account {{ accountID: {toAccountID} }}) CREATE (source)-[:Transfer{{transactionID:{transactionID}, amount:{amount}}}]->(target)  $$) AS (a agtype);\"\n",
    "    execute(query)"
   ]
  },
  {
   "cell_type": "code",
   "execution_count": 1,
   "metadata": {},
   "outputs": [],
   "source": [
    "from model_translator import *"
   ]
  },
  {
   "cell_type": "code",
   "execution_count": 2,
   "metadata": {},
   "outputs": [
    {
     "name": "stdout",
     "output_type": "stream",
     "text": [
      "Successfully connected to the database.\n"
     ]
    }
   ],
   "source": [
    "#replace parameters with yours \n",
    "dbname = \"demo\" \n",
    "user = \"s9rt1v\" \n",
    "pwd = \"1234\" \n",
    "host = \"localhost\" \n",
    "port = \"5430\"\n",
    "psqlConnect(dbname, user, pwd, host, port)\n",
    "load_age()"
   ]
  },
  {
   "cell_type": "code",
   "execution_count": 3,
   "metadata": {},
   "outputs": [
    {
     "name": "stdout",
     "output_type": "stream",
     "text": [
      "Translation Complete!!!\n"
     ]
    }
   ],
   "source": [
    "graph_name = 'trans'\n",
    "translator(graph_name)"
   ]
  },
  {
   "cell_type": "code",
   "execution_count": null,
   "metadata": {},
   "outputs": [],
   "source": []
  }
 ],
 "metadata": {
  "kernelspec": {
   "display_name": "Python 3",
   "language": "python",
   "name": "python3"
  },
  "language_info": {
   "codemirror_mode": {
    "name": "ipython",
    "version": 3
   },
   "file_extension": ".py",
   "mimetype": "text/x-python",
   "name": "python",
   "nbconvert_exporter": "python",
   "pygments_lexer": "ipython3",
   "version": "3.8.3"
  }
 },
 "nbformat": 4,
 "nbformat_minor": 4
}
